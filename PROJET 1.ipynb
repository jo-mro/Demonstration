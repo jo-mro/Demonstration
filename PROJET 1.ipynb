{
 "cells": [
  {
   "cell_type": "markdown",
   "id": "e19c19dd-babf-4311-8d43-404889e9e3c0",
   "metadata": {},
   "source": [
    "---"
   ]
  },
  {
   "cell_type": "markdown",
   "id": "6c108806-5298-4e4f-b2f5-5ebd9d34f060",
   "metadata": {},
   "source": [
    "# Probabilité de réussite dans le jeu \"A prendre ou à laisser\"\n",
    "**Auteur : Jonathan MAURO  \n",
    "Date de dernière mise à jour : 01/01/2025**"
   ]
  },
  {
   "cell_type": "markdown",
   "id": "eb11d352-7b7f-479e-87cd-40514a3a40ea",
   "metadata": {},
   "source": [
    "---"
   ]
  },
  {
   "cell_type": "markdown",
   "id": "a1333f60-5f33-4390-a788-165eae788032",
   "metadata": {},
   "source": [
    "<h2><font color='#ff0000'><b>OBJECTIF</b></font></h2>"
   ]
  },
  {
   "cell_type": "markdown",
   "id": "4f6ce6aa-5fab-4460-ad15-2b42a99f5302",
   "metadata": {},
   "source": [
    "<h3><font color='#4bba13'><b>PRÉSENTATION GÉNÉRALE DU CADRE</b></font></h3>"
   ]
  },
  {
   "cell_type": "markdown",
   "id": "488bca7c-8703-4d00-a5ee-7cddc6abeb87",
   "metadata": {},
   "source": [
    "<center><img src=\"https://upload.wikimedia.org/wikipedia/fr/thumb/7/7c/APRENDREOUALAISSER-LOGO-2014.png/420px-APRENDREOUALAISSER-LOGO-2014.png\"/></center>"
   ]
  },
  {
   "cell_type": "markdown",
   "id": "c4ab3045-7c1c-44df-980a-e872890d9a15",
   "metadata": {},
   "source": [
    "**À prendre ou à laisser** est un jeu télévisé français ayant été diffusé par intermittence entre 2004 et 2021 sur diverses chaînes francophones. Sa version la plus connue restera celle diffusée sur TF1 entre 2004 et 2010, présentée par Arthur. Le candidat pouvait y gagner jusqu'à parfois un million d'euros à partager avec un téléspectateur, ce qui en a fait un jeu très apprécié, notamment grâce aux enjeux énormes qui en découlent. Le concept original vient du jeu néerlandais *Miljoenenjacht*, et près d'une quarantaine de pays a eu sa version. La plus connue est probablement la version anglophone, connue sous le titre *Deal or No Deal*.  \n",
    "Ce jeu repose sur le hasard et son aspect mathématique et statistique a, pendant longtemps, attisé la curiosité de nombreux mathématiciens et autres analystes. Preuve en est, aujourd'hui encore, ce jeu est utilisé dans des projets comme celui-ci... Nous rentrerons plus en détails dans certaines règles du jeu lors de la présentation du contexte de l'analyse, car il n'est pas nécessaire et serait même rébarbatif de tout expliquer dans les moindres détails pour simplement comprendre ce projet (bien que je vous invite à vous intéresser à ce jeu, à toutes ses règles, et à regarder quelques émissions : cela vaut le coup !)."
   ]
  },
  {
   "cell_type": "markdown",
   "id": "c634ef61-faf7-4cde-973e-ad7259460959",
   "metadata": {},
   "source": [
    "<center><img src=\"https://avatars.githubusercontent.com/u/5411318?s=280&v=4\"/></center>"
   ]
  },
  {
   "cell_type": "markdown",
   "id": "1858a7fd-f3b7-47ae-b498-c5ed55f2f39d",
   "metadata": {},
   "source": [
    "**RetroAchievements** (adresse : [retroachievements.org](retroachievements.org)) est un site de jeux vidéo créé et maintenu par des passionés bénévoles. Le principe est simple : gagner des \"succès\" (ou \"achievements\") sur des jeux rétro qui ont été codés par la communauté elle-même. Pour rappel, un **succès** est un objectif défini à accomplir par le joueur, en dehors des objectifs du jeu vidéo en lui-même. Ils sont surtout devenus d'usage courant sur les consoles de la septième génération comme la Xbox 360 et la PlayStation 3 (les fameux \"trophées\"). La totalité des succès d'un jeu représente un **set**, et le jeu est **maîtrisé** (ou **\"mastered\"**) lorsque la totalité des succès sont obtenus. Le site propose actuellement jusqu'à certaines consoles de la sixième génération et un classement général est établi : il y a donc compétition et une équipe de conformité (la \"DevCompliance\") s'assure de son fonctionnement juste et équitable."
   ]
  },
  {
   "cell_type": "markdown",
   "id": "33ac943f-a250-4d41-a4a7-7dd3c02a48c0",
   "metadata": {},
   "source": [
    "<h3><font color='#4bba13'><b>CONTEXTE PRÉCIS DE L'ANALYSE</b></font></h3>"
   ]
  },
  {
   "cell_type": "markdown",
   "id": "fdbc09bb-4112-43f8-9ccc-dc8c7627aefd",
   "metadata": {},
   "source": [
    "Quel point relie cette émission de télévision et ce site ludique ? Son adaptation, bien sûr ! Le jeu **A prendre ou à laisser** a été adapté en jeu vidéo et était même parfois offert aux participants de l'émission. En France, il est sorti sur **Nintendo DS** en 2007. Mais RetroAchievements étant un site anglophone, le seul jeu ayant un set est le jeu **Deal or No Deal** sorti sur Game Boy Advance en 2006.\n",
    "\n",
    "C'est donc sur la version anglaise et plus précisément sur ce que le jeu propose que la suite de ce projet va se baser."
   ]
  },
  {
   "cell_type": "markdown",
   "id": "6334ff84-5da3-411a-b6a2-d078b1832c6b",
   "metadata": {},
   "source": [
    "<center><img src=\"https://media.retroachievements.org/Images/045741.png\" width = 250/></center>"
   ]
  },
  {
   "cell_type": "markdown",
   "id": "435a4c27-19e7-4a52-8764-63db1121efb4",
   "metadata": {},
   "source": [
    "Le jeu propose 3 modes : **TV GAME**, **HIGH LOW** et **VAULT GAME**. Nous allons les présenter brièvement.\n",
    "\n",
    "- **TV GAME** : Comme son nom l'indique, il s'agit du jeu suivant les règles de l'émission. A noter que ces règles sont spécifiques à la version anglophone de **A prendre ou à laisser**, bien que les autres versions, dont la francophone, ont peu de différences (ce qui ne doit donc pas vous dépayser si vous étiez un fan de ce cher Arthur).\n",
    "\n",
    "    Sur un plateau, le candidat se trouve face à 26 boîtes. Ces dernières ont été réparties au hasard par un huissier de justice dans lesquelles se cachent des sommes d'argents différentes pour chacune d’entre elles. Une échelle des gains répertorie les sommes des différentes boîtes que le candidat pourra être amené à remporter à l’issue de l’émission. Seuls l’huissier et un banquier connaissent le contenu des boîtes.  \n",
    "    Au début de l’émission, le candidat doit d'abord choisir la boîte qui va l'accompagner tout au long du jeu. Ensuite, il doit ouvrir une à une les autres boîtes. A chaque ouverture, une somme est découverte et est retirée de l’échelle des gains, cette somme est alors définitivement perdue car celle-ci n’est pas dans la boîte du candidat du jour.  \n",
    "    Ce qui rend le jeu plus imprévisible et inattendu, c'est qu'après un certain nombre d'ouvertures, l'animateur reçoit un coup de fil du banquier, et ce dernier propose soit de racheter au candidat sa boîte contre une somme, soit de pouvoir l'échanger contre une autre boîte encore en jeu. Une fois son choix effectué, le candidat continue alors d'ouvrir les boîtes les unes après les autres jusqu'au prochain coup de fil et ainsi de suite jusqu'à la fin du jeu.  \n",
    "    Ce n’est qu’après avoir ouvert toutes les autres boîtes que le candidat pourra ouvrir et découvrir la somme contenue dans sa propre boîte. Celle-ci est alors le gain remporté par le candidat à condition de ne pas avoir accepté une offre de rachat du banquier."
   ]
  },
  {
   "cell_type": "markdown",
   "id": "b5aeaf3b-0024-4dce-84a9-7aa79710358c",
   "metadata": {},
   "source": [
    "<table><tr>\n",
    "<td><img src=\"https://pearsonified.com/images/entries/dond_board.gif\" /></pre></td>\n",
    "<td><img src=\"https://www.nbc.com/sites/nbcblog/files/2023/11/deal-or-no-deal-2.jpg\" width = 500 /></pre> </td>\n",
    "</table></tr>\n",
    "<center><I>L'échelle des gains et les 26 boîtes face au candidat</I></center>"
   ]
  },
  {
   "cell_type": "markdown",
   "id": "c287b7ba-8afc-4836-9f2e-994315391ef1",
   "metadata": {},
   "source": [
    "- **HIGH LOW** : Dans ce mode, le joueur choisit une première boîte et découvre la somme qu'il y a à l'intérieur. Il doit ensuite choisir une autre boîte et, avant de l'ouvrir, doit deviner si la somme à l'intérieur est **plus** ou **moins** grande que la somme de la dernière boîte ouverte. Si la prédiction est juste, le processus est répété avec les boîtes restantes. Le jeu prend fin soit lors d'une mauvaise prédiction, soit lorsque les 26 boîtes ont été ouvertes sans erreur. Les sommes en jeu sont celles de l'échelle des gains de l'émission télévisée : elles sont donc connues et immuables.\n",
    "\n",
    "- **VAULT GAME** : Le concept est basé sur celui du Mastermind : le joueur doit deviner les 3 boîtes à choisir dans l'ordre pour **ouvrir le coffre**. A chaque tirage de 3 boîtes, le jeu indique pour chaque boîte si son numéro est trop grand, trop petit ou correct. Le joueur commence avec 500 000 \\\\$ et perd 50 000 \\\\$ à chaque essai raté."
   ]
  },
  {
   "cell_type": "markdown",
   "id": "2212127a-aa39-4fd2-8340-20cf76dc482e",
   "metadata": {},
   "source": [
    "En ce qui concerne RetroAchievements, les succès se présentent sous cette forme :"
   ]
  },
  {
   "cell_type": "markdown",
   "id": "de02fd2e-6fda-46fe-9ca9-1737ee6d6096",
   "metadata": {},
   "source": [
    "<table><tr>\n",
    "<td><pre style=\"background-color: #444444\">\n",
    "<img src=\"https://i.retroachievements.org/Badge/00136.png\" width=100/></pre></td>\n",
    "\n",
    "    \n",
    "<td><pre style=\"background-color: #444444\">\n",
    "<font color='#444444'><b>  -</b></font>\n",
    "<font color='#cfa114'><b>  < Titre du succès ></b></font><font color='#5996e8'><b> (< Nombre de points >)     </b></font>\n",
    "<font color='#5996e8'><b>  < Description et indications pour l'obtention du succès >                                                                                                                                      </b></font>\n",
    "<font color='#444444'><b>  -</b></font>\n",
    "</pre></td>\n",
    "</table></tr>"
   ]
  },
  {
   "cell_type": "markdown",
   "id": "303584cf-bfef-4029-aa84-0577ba35e744",
   "metadata": {},
   "source": [
    "Il est à noter que le nombre de points attribué à un succès sert de mesure pour indiquer sa **difficulté**. Plus le nombre de points est élevé, plus les objectifs sont considérés comme compliqués à réaliser (et plus le joueur est récompensé à sa réussite)."
   ]
  },
  {
   "cell_type": "markdown",
   "id": "742a106e-89e0-47be-bdc2-0a665d5ce9bf",
   "metadata": {},
   "source": [
    "<h3><font color='#4bba13'><b>PROBLÉMATIQUE DONT L'ÉQUIPE DE CONFORMITÉ FAIT FACE</b></font></h3>"
   ]
  },
  {
   "cell_type": "markdown",
   "id": "73b4540f-7ce4-4adf-814c-7c3116133b52",
   "metadata": {},
   "source": [
    "Sur RetroAchievements, le set comprend 13 succès, mais ce sera sur ces deux-là que notre attention se portera :"
   ]
  },
  {
   "cell_type": "markdown",
   "id": "c7091866-6464-4a82-aaf8-fd12cf6fe80e",
   "metadata": {},
   "source": [
    "<table><tr>\n",
    "<td><pre style=\"background-color: #444444\">\n",
    "<img src=\"https://media.retroachievements.org/Badge/183004.png\" width=100/></pre></td>\n",
    "\n",
    "    \n",
    "<td><pre style=\"background-color: #444444\">\n",
    "<font color='#444444'><b>  -</b></font>\n",
    "<font color='#cfa114'><b>  Who Want's To Be A Millionaire?</b></font><font color='#5996e8'><b> (25)     </b></font>\n",
    "<font color='#5996e8'><b>  Gagner 1.000.000$ en gardant votre boîte de départ                                                                                                                                      </b></font>\n",
    "<font color='#444444'><b>  -</b></font>\n",
    "</pre></td>\n",
    "</table></tr>"
   ]
  },
  {
   "cell_type": "markdown",
   "id": "a3f1c803-cbb1-42e7-a576-d74707b5dd90",
   "metadata": {},
   "source": [
    "<table><tr>\n",
    "<td><pre style=\"background-color: #444444\">\n",
    "<img src=\"https://media.retroachievements.org/Badge/183012.png\" width=100/></pre></td>\n",
    "\n",
    "    \n",
    "<td><pre style=\"background-color: #444444\">\n",
    "<font color='#444444'><b>  -</b></font>\n",
    "<font color='#cfa114'><b>  Extrasensory Perception</b></font><font color='#5996e8'><b> (25)     </b></font>\n",
    "<font color='#5996e8'><b>  Deviner 25 boîtes correctement dans le mode HIGH LOW                                                                                                                                      </b></font>\n",
    "<font color='#444444'><b>  -</b></font>\n",
    "</pre></td>\n",
    "</table></tr>"
   ]
  },
  {
   "cell_type": "markdown",
   "id": "18dffb67-0759-4963-b4a9-6fa340bb439d",
   "metadata": {},
   "source": [
    "*NB : le jeu en lui-même  ne compte pas la première boîte choisie comme une réussite. 25 est donc le nombre maximum de boîte qu'il est possible de deviner correctement.*"
   ]
  },
  {
   "cell_type": "markdown",
   "id": "88f90371-7617-4bea-b47b-714629b4d2ae",
   "metadata": {},
   "source": [
    "En effet, le développeur du set a jugé que ces deux succès étaient de difficulté égale puisqu'étant tous deux à 25 points. Cependant, un nombre élevé de joueurs se sont plaints de la difficulté du deuxième succès et de la chance nécessaire pour y parvenir.  \n",
    "  \n",
    "Le site indique également combien de joueurs ont tenté le set et combien ont obtenu le succès, ce qui donne accès au **taux de réussite** de chaque succès.  \n",
    "Au 1er janvier 2025, le premier a été obtenu par 136 sur 513, soit **26,51%** des joueurs,  \n",
    "Le second a été obtenu par 28 personnes sur 513, soit **5,45%** des joueurs.  \n",
    "Il s'agit là d'un écart flagrant, d'autant plus que le taux descend généralement très vite entre 100% et 50% de réussite (à cause de joueurs très occasionnels qui testent le jeu puis changent très vite), mais en-dessous de 50%, chaque diminution de pourcentage représente une croissance exponentielle de la difficulté. Les chiffres semblent donc refléter ce que les plaintes nous permettaient de déduire : **il y a un problème avec ce deuxième succès, jugé trop difficile**. Les questions auxquelles nous allons répondre dans ce rapport sont donc les suivantes :"
   ]
  },
  {
   "cell_type": "markdown",
   "id": "afc1839a-0c0b-4338-8858-7bc4963dbafd",
   "metadata": {},
   "source": [
    "<font color='#944fd9'><b>Les chances d'obtention de ces deux succès sont-elles similaires ? Est-ce justifié de les mettre au même score ou bien doit-on réévaluer leur valeur ? Doit-on même supprimer le second pour \"concept indésirable\" ?</b></font>"
   ]
  },
  {
   "cell_type": "markdown",
   "id": "31b9e450-07b1-49e0-a1be-d64f4f88e939",
   "metadata": {},
   "source": [
    "En s'y penchant partiellement, l'intuition mathématique nous laisse supposer qu'il y a une marge assez significative entre les deux succès. Le premier a l'air déjà assez rare (on ne gagne pas tous les jours 1 000 000 $ !), ce qui justifierait de le laisser à 25 points. Le second, cependant, doit être augmenté. C'est sur cette hypothèse que nous allons baser notre étude. Qu'attendons-nous ? Allons-y !"
   ]
  },
  {
   "cell_type": "markdown",
   "id": "4ca20304-4e5c-4503-99bf-db6be5368149",
   "metadata": {},
   "source": [
    "<h2><font color='#ff0000'><b>PREMIER MODE : TV GAME</b></font></h2>"
   ]
  },
  {
   "cell_type": "markdown",
   "id": "ec405d36-a94f-4d0d-8e43-c83381a3c387",
   "metadata": {},
   "source": [
    "Commençons par le premier mode, qui est également le plus facile à démontrer mathématiquement."
   ]
  },
  {
   "cell_type": "markdown",
   "id": "29538209-c380-4c31-bfbd-95c030cda3c5",
   "metadata": {},
   "source": [
    "<h3><font color='#4bba13'><b>MODÉLISATION MATHÉMATIQUE DU MODE TV GAME</b></font></h3>"
   ]
  },
  {
   "cell_type": "markdown",
   "id": "422fffec-00f2-4a4f-bf58-c28b1b165ae9",
   "metadata": {},
   "source": [
    "Etant donné que le jeu est basé principalement sur le hasard, **nous devons calculer la probabilité de choisir la boîte à 1 000 000 \\\\$** lors du choix en début de partie, ainsi que le **nombre moyen de parties nécessaire pour espérer obtenir le succès**.  \n",
    "Ici, sans rentrer trop dans la théorie mathématique car il s'agit d'un concept très intuitif, la formule générale pour calculer la probabilité est la suivante :  \n",
    "$$ P = \\frac {k}{N} $$\n",
    "où :  \n",
    "$P$ est la probabilité d'une issue favorable lors d'un événement.  \n",
    "$k$ est le nombre d'issues favorables possibles.  \n",
    "$N$ est le nombre total d'issues possibles pour l'événement.  \n",
    "\n",
    "Dans notre cas :\n",
    "- Il y a 26 boîtes avec 26 sommes différentes, le nombre total d'issues possibles est donc $N = 26$.\n",
    "- Il n'y a qu'une seule boîte à 1 000 000 \\\\$, qui est la somme que nous voulons, le nombre total d'issues favorables possibles est donc $k = 1$.  \n",
    "Ce qui nous donne donc une probabilité d'obtenir 1 000 000\\\\$ de **$P = \\frac {1}{26} (\\approx 0,038).$**"
   ]
  },
  {
   "cell_type": "markdown",
   "id": "6efbd200-dc1e-440c-8e3d-ecc8304e0551",
   "metadata": {},
   "source": [
    "En ce qui concerne le **nombre moyen de parties nécessaire**, inutile de faire des simulations, nous avons un outil puissant en mathématique qui permet de faire ce calcul avec grande fiabilité : **les lois statistiques.**  \n",
    "En effet, nous souhaitons :\n",
    "- savoir combien de parties il faut faire avant d'obtenir pour la première fois un événement,\n",
    "- cet événement a une probabilité d'apparition comprise entre 0 et 1,\n",
    "- chaque partie est indépendante les unes des autres, ce qui signifie que le résultat d'une partie n'influera pas le résultat d'une autre partie.\n",
    "\n",
    "Notre modèle suit donc une **loi géométrique** de paramètre $P = \\frac {1}{26}$.  \n",
    "\n",
    "En sachant ça, nous pouvons donc calculer **l'espérance**, qui correspond exactement à ce que l'on recherche : il s'agit du nombre d'épreuves à répéter pour **espérer** obtenir le résultat souhaité. La formule est la suivante : $E = \\frac {1}{P}$.  \n",
    "\n",
    "Ici, il faut donc $E = \\frac {1}{1/26} = 26.$ Et finalement, ce résultat est parfaitement logique : si les 26 résultats sont équiprobables, il faut en moyenne 26 parties pour avoir un résultat recherché."
   ]
  },
  {
   "cell_type": "markdown",
   "id": "1436d9d9-6e0b-4f70-bd58-5678b367cdcc",
   "metadata": {},
   "source": [
    "<h3><font color='#4bba13'><b>RÉSUMÉ ET DÉDUCTIONS</b></font></h3>"
   ]
  },
  {
   "cell_type": "markdown",
   "id": "6c488c01-8f1b-46d7-8352-459e89ac6754",
   "metadata": {},
   "source": [
    "<font color='#944fd9'><b>Il y a donc environ 3,8% de chance de réussite pour ce succès, et il faudra environ 26 parties aux joueurs pour l'obtenir. Selon les standards du site RetroAchievements, 25 points est une valeur acceptable pour un tel succès.</b></font>  \n",
    "En effet, ce concept ne semble pas entrer en conflit avec le **[code de conduite du développeur](https://docs.retroachievements.org/developer-docs/achievement-scoring.html)**, indiquant la démarche à suivre pour enseigner et uniformiser la création de succès."
   ]
  },
  {
   "cell_type": "markdown",
   "id": "110bed4f-387c-423f-80a6-17efaa980ea6",
   "metadata": {},
   "source": [
    "<h2><font color='#ff0000'><b>DEUXIÈME MODE : HIGH LOW</b></font></h2>"
   ]
  },
  {
   "cell_type": "markdown",
   "id": "8b9a1422-dfa3-4991-899a-e7221ed6cd99",
   "metadata": {},
   "source": [
    "C'est ici que cela se complique. Il est plutôt difficile de modéliser de façon mathématique la situation. Cela vous surprend-il ? C'est possible - et dans ce cas, la suite est parfaite pour vous. Je propose de se lancer dans la simulation, et nous comprendrons plus tard de quoi cela relève. Après tout, nous sommes là pour ça avant tout, non... ?"
   ]
  },
  {
   "cell_type": "markdown",
   "id": "6d0fd203-e36b-4465-a821-4e5e238e24bd",
   "metadata": {},
   "source": [
    "Pour la suite, importons nos **bibliothèques** favorites pour ce genre de projets :"
   ]
  },
  {
   "cell_type": "code",
   "execution_count": 389,
   "id": "6eae1220",
   "metadata": {},
   "outputs": [],
   "source": [
    "import numpy as np # Pour le calcul de la moyenne\n",
    "import random as rd # Pour simuler des parties aléatoires\n",
    "import pandas as pd # Pour manipuler et analyser nos données\n",
    "import matplotlib.pyplot as plt # Pour créer de jolis graphiques de nos résultats"
   ]
  },
  {
   "cell_type": "markdown",
   "id": "afb7bb4d",
   "metadata": {},
   "source": [
    "<h3><font color='#4bba13'><b>CRÉATION D'UNE NOUVELLE PARTIE VIERGE</b></font></h3>"
   ]
  },
  {
   "cell_type": "markdown",
   "id": "6d2e690f-5981-4016-88c3-8daa1f2a6b59",
   "metadata": {},
   "source": [
    "Avant de pouvoir jouer, il faut faire le travail de l'huissier de justice : c'est-à-dire, répartir les 26 sommes dans les 26 boîtes."
   ]
  },
  {
   "cell_type": "code",
   "execution_count": 393,
   "id": "3750f9a9",
   "metadata": {},
   "outputs": [],
   "source": [
    "# Création de nos 26 boîtes vides, numérotées de 1 à 26\n",
    "liste_boite = []\n",
    "for i in range (1,27):\n",
    "    liste_boite.append(i)\n",
    "    \n",
    "# Création de la liste des 26 sommes de l'échelle des gains de la version américaine\n",
    "liste_somme = [0.01,1,5,10,25,50,75,100,200,300,400,500,750,1000,5000,10000,25000,50000,75000,100000,200000,300000,400000,500000,750000,1000000]\n",
    "\n",
    "# On mélange la liste des sommes, équivalent à répartir au hasard les sommes\n",
    "rd.shuffle(liste_somme)"
   ]
  },
  {
   "cell_type": "code",
   "execution_count": 395,
   "id": "92f42bf8",
   "metadata": {},
   "outputs": [
    {
     "data": {
      "text/html": [
       "<div>\n",
       "<style scoped>\n",
       "    .dataframe tbody tr th:only-of-type {\n",
       "        vertical-align: middle;\n",
       "    }\n",
       "\n",
       "    .dataframe tbody tr th {\n",
       "        vertical-align: top;\n",
       "    }\n",
       "\n",
       "    .dataframe thead th {\n",
       "        text-align: right;\n",
       "    }\n",
       "</style>\n",
       "<table border=\"1\" class=\"dataframe\">\n",
       "  <thead>\n",
       "    <tr style=\"text-align: right;\">\n",
       "      <th></th>\n",
       "      <th>Somme contenue dans la boîte</th>\n",
       "    </tr>\n",
       "    <tr>\n",
       "      <th>Boîte</th>\n",
       "      <th></th>\n",
       "    </tr>\n",
       "  </thead>\n",
       "  <tbody>\n",
       "    <tr>\n",
       "      <th>1</th>\n",
       "      <td>200000.00</td>\n",
       "    </tr>\n",
       "    <tr>\n",
       "      <th>2</th>\n",
       "      <td>75.00</td>\n",
       "    </tr>\n",
       "    <tr>\n",
       "      <th>3</th>\n",
       "      <td>400000.00</td>\n",
       "    </tr>\n",
       "    <tr>\n",
       "      <th>4</th>\n",
       "      <td>0.01</td>\n",
       "    </tr>\n",
       "    <tr>\n",
       "      <th>5</th>\n",
       "      <td>5.00</td>\n",
       "    </tr>\n",
       "    <tr>\n",
       "      <th>6</th>\n",
       "      <td>300.00</td>\n",
       "    </tr>\n",
       "    <tr>\n",
       "      <th>7</th>\n",
       "      <td>25000.00</td>\n",
       "    </tr>\n",
       "    <tr>\n",
       "      <th>8</th>\n",
       "      <td>1000000.00</td>\n",
       "    </tr>\n",
       "    <tr>\n",
       "      <th>9</th>\n",
       "      <td>5000.00</td>\n",
       "    </tr>\n",
       "    <tr>\n",
       "      <th>10</th>\n",
       "      <td>200.00</td>\n",
       "    </tr>\n",
       "    <tr>\n",
       "      <th>11</th>\n",
       "      <td>1.00</td>\n",
       "    </tr>\n",
       "    <tr>\n",
       "      <th>12</th>\n",
       "      <td>1000.00</td>\n",
       "    </tr>\n",
       "    <tr>\n",
       "      <th>13</th>\n",
       "      <td>10000.00</td>\n",
       "    </tr>\n",
       "    <tr>\n",
       "      <th>14</th>\n",
       "      <td>25.00</td>\n",
       "    </tr>\n",
       "    <tr>\n",
       "      <th>15</th>\n",
       "      <td>750000.00</td>\n",
       "    </tr>\n",
       "    <tr>\n",
       "      <th>16</th>\n",
       "      <td>300000.00</td>\n",
       "    </tr>\n",
       "    <tr>\n",
       "      <th>17</th>\n",
       "      <td>100.00</td>\n",
       "    </tr>\n",
       "    <tr>\n",
       "      <th>18</th>\n",
       "      <td>100000.00</td>\n",
       "    </tr>\n",
       "    <tr>\n",
       "      <th>19</th>\n",
       "      <td>10.00</td>\n",
       "    </tr>\n",
       "    <tr>\n",
       "      <th>20</th>\n",
       "      <td>75000.00</td>\n",
       "    </tr>\n",
       "    <tr>\n",
       "      <th>21</th>\n",
       "      <td>500000.00</td>\n",
       "    </tr>\n",
       "    <tr>\n",
       "      <th>22</th>\n",
       "      <td>50000.00</td>\n",
       "    </tr>\n",
       "    <tr>\n",
       "      <th>23</th>\n",
       "      <td>50.00</td>\n",
       "    </tr>\n",
       "    <tr>\n",
       "      <th>24</th>\n",
       "      <td>500.00</td>\n",
       "    </tr>\n",
       "    <tr>\n",
       "      <th>25</th>\n",
       "      <td>750.00</td>\n",
       "    </tr>\n",
       "    <tr>\n",
       "      <th>26</th>\n",
       "      <td>400.00</td>\n",
       "    </tr>\n",
       "  </tbody>\n",
       "</table>\n",
       "</div>"
      ],
      "text/plain": [
       "       Somme contenue dans la boîte\n",
       "Boîte                              \n",
       "1                         200000.00\n",
       "2                             75.00\n",
       "3                         400000.00\n",
       "4                              0.01\n",
       "5                              5.00\n",
       "6                            300.00\n",
       "7                          25000.00\n",
       "8                        1000000.00\n",
       "9                           5000.00\n",
       "10                           200.00\n",
       "11                             1.00\n",
       "12                          1000.00\n",
       "13                         10000.00\n",
       "14                            25.00\n",
       "15                        750000.00\n",
       "16                        300000.00\n",
       "17                           100.00\n",
       "18                        100000.00\n",
       "19                            10.00\n",
       "20                         75000.00\n",
       "21                        500000.00\n",
       "22                         50000.00\n",
       "23                            50.00\n",
       "24                           500.00\n",
       "25                           750.00\n",
       "26                           400.00"
      ]
     },
     "execution_count": 395,
     "metadata": {},
     "output_type": "execute_result"
    }
   ],
   "source": [
    "# Création de notre dataframe indiquant le contenu des boîtes\n",
    "nouveau_jeu = pd.DataFrame(liste_somme, index=liste_boite , columns=['Somme contenue dans la boîte'])\n",
    "nouveau_jeu.index.name = 'Boîte'\n",
    "nouveau_jeu"
   ]
  },
  {
   "cell_type": "markdown",
   "id": "6022a29a-4d4e-4281-9b13-f013c7ddccea",
   "metadata": {},
   "source": [
    "Et voilà, un jeu tout neuf est face à nous ! Nous allons l'utiliser dans la suite."
   ]
  },
  {
   "cell_type": "markdown",
   "id": "1161e1f2",
   "metadata": {},
   "source": [
    "<h3><font color='#4bba13'><b>TEST POUR LA PRÉMIÈRE BOITE SÉLECTIONNÉE</b></font></h3>"
   ]
  },
  {
   "cell_type": "markdown",
   "id": "54e365be-e914-4250-9054-a21e65a76504",
   "metadata": {},
   "source": [
    "Maintenant, il faut sélectionner notre première boîte, pour lancer le jeu. J'aime appeler cette étape **l'initialisation**, comme pour une récurrence mathématique."
   ]
  },
  {
   "cell_type": "code",
   "execution_count": 397,
   "id": "950533f4",
   "metadata": {},
   "outputs": [
    {
     "data": {
      "text/plain": [
       "20"
      ]
     },
     "execution_count": 397,
     "metadata": {},
     "output_type": "execute_result"
    }
   ],
   "source": [
    "# Notre dataframe devient notre liste de choix, car celle-ci va être modifiée au fur et à mesure de l'avancée du jeu\n",
    "liste_choix = nouveau_jeu.index\n",
    "\n",
    "# Nous choisissons au hasard la première boîte\n",
    "choix_boite = rd.choices(liste_choix, k=1)\n",
    "choix_boite = int(choix_boite[0])\n",
    "choix_boite"
   ]
  },
  {
   "cell_type": "code",
   "execution_count": 399,
   "id": "5ad80384",
   "metadata": {},
   "outputs": [
    {
     "data": {
      "text/plain": [
       "75000.0"
      ]
     },
     "execution_count": 399,
     "metadata": {},
     "output_type": "execute_result"
    }
   ],
   "source": [
    "# Nous affichons la somme contenue à l'intérieur de la boîte, qui deviendra notre somme de référence pour la prédiction plus tard\n",
    "somme1 = nouveau_jeu.loc[choix_boite]\n",
    "somme1 = float(somme1.iloc[0])\n",
    "somme1"
   ]
  },
  {
   "cell_type": "code",
   "execution_count": 401,
   "id": "4ab78b0a",
   "metadata": {},
   "outputs": [
    {
     "data": {
      "text/plain": [
       "Index([ 1,  2,  3,  4,  5,  6,  7,  8,  9, 10, 11, 12, 13, 14, 15, 16, 17, 18,\n",
       "       19, 21, 22, 23, 24, 25, 26],\n",
       "      dtype='int64', name='Boîte')"
      ]
     },
     "execution_count": 401,
     "metadata": {},
     "output_type": "execute_result"
    }
   ],
   "source": [
    "# N'oublions pas de retirer cette boìte de notre liste de choix, car elle n'est plus en jeu\n",
    "liste_choix = liste_choix.drop(choix_boite)\n",
    "liste_choix"
   ]
  },
  {
   "cell_type": "markdown",
   "id": "67fabfe6",
   "metadata": {},
   "source": [
    "<h3><font color='#4bba13'><b>TEST POUR LES BOITES N+1 SÉLECTIONNÉES</b></font></h3>"
   ]
  },
  {
   "cell_type": "markdown",
   "id": "19a0f4fc-f911-49e0-be81-e99d4d90264b",
   "metadata": {},
   "source": [
    "Pour les boîtes suivantes, il faut rajouter deux éléments importants :\n",
    "- La prédiction après la sélection de la boîte et avant son ouverture,\n",
    "- La vérification de la prédiction, avec arrêt du jeu le cas éronné.\n",
    "\n",
    "J'aime appeler cette étape **l'hérédité**, toujours en référence à la récurrence mathématique."
   ]
  },
  {
   "cell_type": "code",
   "execution_count": 403,
   "id": "79fcf34f",
   "metadata": {},
   "outputs": [
    {
     "data": {
      "text/plain": [
       "['plus basse']"
      ]
     },
     "execution_count": 403,
     "metadata": {},
     "output_type": "execute_result"
    }
   ],
   "source": [
    "# Création des différents choix de la prédiction\n",
    "prediction = [\"plus haute\",\"plus basse\"]\n",
    "\n",
    "# Et nous choisissons une prédiction au hasard\n",
    "choix_prediction = rd.choices(prediction, k=1)\n",
    "choix_prediction"
   ]
  },
  {
   "cell_type": "markdown",
   "id": "174065b4-9f07-4fb1-8244-e5e1ebf7392e",
   "metadata": {},
   "source": [
    "Parfait ! Il ne reste qu'à vérifier si la prédiction est correcte, et continuer ou arrêter le jeu en fonction du résultat. "
   ]
  },
  {
   "cell_type": "code",
   "execution_count": 405,
   "id": "ce5d79a5",
   "metadata": {},
   "outputs": [
    {
     "name": "stdout",
     "output_type": "stream",
     "text": [
      "Vous choisissez la boîte 18\n",
      "Et c'est 1 réussite(s) !\n",
      "Vous choisissez la boîte 8\n",
      "Perdu ! votre nombre de reussite est : 1\n",
      "La dernière boîte avait 100000.0 $, or la boîte choisie est la 8 , qui contenait 1000000.0 $, et vous pensiez que la valeur serait plus basse .\n"
     ]
    }
   ],
   "source": [
    "# Initialisation des variables comptant le nombre de réussite et du booléen indiquant s'il faut continuer ou non la partie\n",
    "reussite = 0\n",
    "continuer = \"oui\"\n",
    "\n",
    "# Si la prédiction est fausse, le jeu s'arrête, ce qui est matérialisé ici par la sortie de la boucle \"while\" et donc la fin de la simulation\n",
    "while continuer == \"oui\":\n",
    "    # Choix de la prédiction\n",
    "    choix_prediction = rd.choices(prediction, k=1)\n",
    "    # Puis le choix suivant de boîte\n",
    "    choix_boite = rd.choices(liste_choix, k=1)\n",
    "    choix_boite = int(choix_boite[0])\n",
    "    print(\"Vous choisissez la boîte\",choix_boite)\n",
    "    # Retrait du jeu de la boîte\n",
    "    liste_choix = liste_choix.drop(choix_boite)\n",
    "    # Découverte de la somme à l'intérieur de la nouvelle boîte\n",
    "    somme2 = nouveau_jeu.loc[choix_boite]\n",
    "    somme2 = float(somme2.iloc[0])\n",
    "    \n",
    "    # En fonction de la somme suivante, il y a les 2 cas de figure évidents :\n",
    "\n",
    "    # Si la somme est plus élevée :\n",
    "    if somme2 > somme1:\n",
    "        # Il s'agit de la prédiction \"plus haute\" qui est juste\n",
    "        if choix_prediction[0] == \"plus haute\":\n",
    "            # Dans ce cas, on augmente le nombre de réussite \n",
    "            reussite += 1\n",
    "            print(\"Et c'est\",reussite,\"réussite(s) !\")\n",
    "            # Et on prend la nouvelle somme comme somme de référence\n",
    "            somme1 = somme2\n",
    "        # La prédiction \"plus basse\" est fausse\n",
    "        if choix_prediction[0] == \"plus basse\":\n",
    "            # La variable 'continuer' devient non pour sortir de la boucle while, car le jeu s'arrête\n",
    "            continuer = \"non\"\n",
    "            # Et autant expliquer pourquoi c'est perdu...\n",
    "            print(\"Perdu ! votre nombre de reussite est :\",reussite)\n",
    "            print(\"La dernière boîte avait\",somme1,\"$, or la boîte choisie est la\",choix_boite,\", qui contenait\",somme2,\"$, et vous pensiez que la valeur serait\", choix_prediction[0],\".\")\n",
    "    \n",
    "    # De manière strictement analogue, si la somme est plus basse :\n",
    "    if somme2 < somme1:\n",
    "        # Il s'agit de la prédiction \"plus basse\" qui est juste\n",
    "        if choix_prediction[0] == \"plus basse\":\n",
    "            print(\"Et c'est\",reussite,\"réussite(s) !\")\n",
    "            print(reussite)\n",
    "            somme1 = somme2\n",
    "        # Et c'est la prédiction \"plus haute\" qui met fin au jeu et à la simulation\n",
    "        if choix_prediction[0] == \"plus haute\":\n",
    "            continuer = \"non\"\n",
    "            print(\"Perdu ! votre nombre de reussite est :\",reussite)\n",
    "            print(\"La dernière boîte avait\",somme1,\"$, or la boîte choisie est la\",choix_boite,\", qui contenait\",somme2,\"$, et vous pensiez que la valeur serait\", choix_prediction[0],\".\")\n",
    "\n",
    "    \n",
    "    # Et enfin, si le nombre de réussite atteint 25, il n'y a plus de boîte en jeu\n",
    "    if reussite == 25:\n",
    "        # Nous mettons donc fin à la simulation\n",
    "        continuer = \"non\"\n",
    "        # Et nous nous félicitons d'avoir réussi la succès !!\n",
    "        print(\"Vous avez ouvert toutes les boîtes ! Bravo !\")"
   ]
  },
  {
   "cell_type": "markdown",
   "id": "782d8fba-bed3-426e-bcc3-a8e928da4aef",
   "metadata": {},
   "source": [
    "Maintenant que nous avons tous les éléments fonctionnels, nous pouvons tous les rassembler pour créer une partie complète."
   ]
  },
  {
   "cell_type": "markdown",
   "id": "4cd30f0e",
   "metadata": {},
   "source": [
    "<h3><font color='#4bba13'><b>PREMIER MODÈLE : ALGORITHME POUR SIMULER UNE PARTIE COMPLÈTE</b></font></h3>"
   ]
  },
  {
   "cell_type": "markdown",
   "id": "7ba1e5a7-ac49-4f01-861c-000a645ba149",
   "metadata": {},
   "source": [
    "Tous les blocs de code sont rassemblés ensemble pour un seul algorithme. Il suffit de le lancer à sa guise pour commencer une nouvelle partie. C'est peut-être moins amusant que si l'on pouvait choisir nous-même la prédiction, mais le but ici n'est pas de jouer ! Pariez plutôt si votre partie peut être gagnante ou non..."
   ]
  },
  {
   "cell_type": "code",
   "execution_count": 421,
   "id": "e0d4caab",
   "metadata": {},
   "outputs": [
    {
     "name": "stdout",
     "output_type": "stream",
     "text": [
      "Pour commencer, je choisis la boîte 12\n",
      "Celle-ci contient 750000.0 $\n",
      "Je pense que la prochaine somme sera plus basse\n",
      "Je choisis la boîte 21\n",
      "Celle-ci contient 400.0 $\n",
      "Et c'est 1 réussite(s) !\n",
      "Je pense que la prochaine somme sera plus basse\n",
      "Je choisis la boîte 11\n",
      "Celle-ci contient 300000.0 $\n",
      "Perdu ! mon nombre de reussite est : 1\n",
      "La dernière boîte avait 400.0 $, or la boîte choisie est la 11 , qui contenait 300000.0 $, et je pensais que la valeur serait plus basse .\n"
     ]
    }
   ],
   "source": [
    "liste_boite = []\n",
    "\n",
    "for i in range (1,27):\n",
    "    liste_boite.append(i)\n",
    "\n",
    "liste_somme = [0.01,1,5,10,25,50,75,100,200,300,400,500,750,1000,5000,10000,25000,50000,75000,100000,200000,300000,400000,500000,750000,1000000]\n",
    "rd.shuffle(liste_somme)\n",
    "\n",
    "nouveau_jeu = pd.DataFrame(liste_somme, index=liste_boite , columns=['Somme contenue dans la boîte'])\n",
    "nouveau_jeu.index.name = 'Boîte'\n",
    "\n",
    "liste_choix = nouveau_jeu.index\n",
    "choix_boite = rd.choices(liste_choix, k=1)\n",
    "choix_boite = int(choix_boite[0])\n",
    "liste_choix = liste_choix.drop(choix_boite)\n",
    "#print(liste_choix)\n",
    "print(\"Pour commencer, je choisis la boîte\",choix_boite)\n",
    "\n",
    "somme1 = nouveau_jeu.loc[choix_boite]\n",
    "somme1 = float(somme1.iloc[0])\n",
    "print(\"Celle-ci contient\",somme1,\"$\")\n",
    "\n",
    "prediction = [\"plus haute\",\"plus basse\"]\n",
    "\n",
    "reussite = 0\n",
    "continuer = \"oui\"\n",
    "\n",
    "while continuer == \"oui\":\n",
    "    choix_prediction = rd.choices(prediction, k=1)\n",
    "    print(\"Je pense que la prochaine somme sera\",choix_prediction[0])\n",
    "    choix_boite = rd.choices(liste_choix, k=1)\n",
    "    choix_boite = int(choix_boite[0])\n",
    "    print(\"Je choisis la boîte\",choix_boite)\n",
    "    liste_choix = liste_choix.drop(choix_boite)\n",
    "    #print(liste_choix)\n",
    "    somme2 = nouveau_jeu.loc[choix_boite]\n",
    "    somme2 = float(somme2.iloc[0])\n",
    "    print(\"Celle-ci contient\",somme2,\"$\")\n",
    "    if somme2 > somme1:\n",
    "        if choix_prediction[0] == \"plus haute\":\n",
    "            reussite += 1\n",
    "            print(\"Et c'est\",reussite,\"réussite(s) !\")\n",
    "            somme1 = somme2\n",
    "        if choix_prediction[0] == \"plus basse\":\n",
    "            continuer = \"non\"\n",
    "            print(\"Perdu ! mon nombre de reussite est :\",reussite)\n",
    "            print(\"La dernière boîte avait\",somme1,\"$, or la boîte choisie est la\",choix_boite,\", qui contenait\",somme2,\"$, et je pensais que la valeur serait\", choix_prediction[0],\".\")\n",
    "    if somme2 < somme1:\n",
    "        if choix_prediction[0] == \"plus basse\":\n",
    "            reussite += 1\n",
    "            print(\"Et c'est\",reussite,\"réussite(s) !\")\n",
    "            somme1 = somme2\n",
    "        if choix_prediction[0] == \"plus haute\":\n",
    "            continuer = \"non\"\n",
    "            print(\"Perdu ! mon nombre de reussite est :\",reussite)\n",
    "            print(\"La dernière boîte avait\",somme1,\"$, or la boîte choisie est la\",choix_boite,\", qui contenait\",somme2,\"$, et je pensais que la valeur serait\", choix_prediction[0],\".\")\n",
    "    if reussite == 25:\n",
    "        continuer = \"non\"\n",
    "        print(\"Vous avez ouvert toutes les boîtes ! Bravo !\")"
   ]
  },
  {
   "cell_type": "markdown",
   "id": "07b8f696-4b92-4895-91fb-bdc8005b7635",
   "metadata": {},
   "source": [
    "Alors ? Quel est votre record ? C'est gagné ? Non ? Pas étonnant... Visualisons le nombre de réussites pour chaque partie, et voyons combien de fois on obtient l'ouverture de 25 boîtes..."
   ]
  },
  {
   "cell_type": "markdown",
   "id": "52ee3177",
   "metadata": {},
   "source": [
    "<h3><font color='#4bba13'><b>VISUALISATION DU NOMBRE D'ESSAIS DU PREMIER MODÈLE</b></font></h3>"
   ]
  },
  {
   "cell_type": "code",
   "execution_count": 425,
   "id": "7d82eab2",
   "metadata": {},
   "outputs": [
    {
     "name": "stdout",
     "output_type": "stream",
     "text": [
      "[0, 0, 2, 0, 0, 0, 1, 2, 0, 3, 0, 2, 1, 2, 3, 0, 0, 2, 1, 3, 1, 1, 1, 0, 3, 0, 2, 0, 2, 0, 5, 2, 0, 1, 0, 0, 2, 1, 3, 0, 0, 0, 0, 0, 1, 0, 0, 2, 2, 1, 1, 0, 0, 0, 4, 4, 0, 3, 1, 2, 1, 0, 1, 0, 0, 1, 2, 2, 3, 0, 0, 0, 0, 2, 0, 0, 1, 0, 0, 0, 0, 0, 0, 1, 0, 0, 0, 2, 0, 0, 0, 0, 0, 0, 0, 0, 0, 0, 1, 1, 0, 2, 2, 0, 1, 3, 0, 0, 2, 2, 1, 1, 2, 0, 1, 0, 1, 1, 0, 0, 0, 0, 0, 1, 0, 0, 1, 1, 1, 5, 0, 0, 4, 2, 0, 9, 0, 0, 0, 1, 0, 0, 0, 1, 10, 1, 0, 0, 2, 1, 0, 1, 0, 0, 0, 0, 1, 0, 0, 0, 0, 0, 0, 0, 0, 0, 1, 0, 1, 0, 0, 1, 3, 1, 1, 0, 2, 2, 0, 0, 0, 3, 4, 0, 0, 0, 0, 0, 0, 1, 0, 1, 0, 3, 1, 1, 1, 2, 10, 0, 0, 1, 1, 2, 0, 0, 0, 0, 1, 1, 3, 4, 0, 0, 0, 1, 6, 1, 0, 1, 5, 0, 0, 1, 2, 2, 0, 0, 0, 0, 1, 0, 2, 0, 0, 0, 1, 0, 1, 0, 6, 0, 2, 0, 3, 1, 0, 2, 0, 0, 0, 0, 1, 3, 2, 1, 0, 3, 1, 1, 0, 0, 0, 0, 3, 3, 1, 0, 0, 0, 1, 1, 0, 1, 2, 1, 1, 1, 1, 0, 1, 0, 3, 0, 1, 3, 2, 0, 2, 0, 1, 0, 1, 0, 0, 3, 0, 1, 2, 0, 0, 0, 4, 0, 3, 0, 5, 3, 0, 1, 2, 0, 1, 0, 2, 2, 1, 4, 5, 0, 2, 0, 0, 2, 3, 2, 0, 0, 3, 4, 1, 0, 0, 1, 2, 2, 5, 1, 2, 1, 0, 0, 0, 2, 1, 0, 3, 0, 2, 0, 0, 0, 0, 1, 0, 0, 1, 1, 0, 7, 0, 0, 0, 5, 2, 0, 4, 0, 1, 1, 1, 2, 0, 4, 4, 0, 0, 0, 0, 1, 2, 1, 2, 0, 0, 4, 1, 1, 1, 0, 1, 0, 6, 0, 1, 1, 0, 0, 1, 2, 2, 2, 1, 1, 0, 1, 0, 8, 0, 0, 0, 0, 1, 3, 1, 2, 0, 0, 3, 0, 1, 0, 0, 0, 4, 0, 0, 0, 0, 0, 0, 1, 1, 0, 1, 0, 0, 0, 2, 0, 1, 0, 2, 1, 6, 1, 0, 1, 0, 0, 0, 1, 5, 1, 1, 0, 0, 2, 0, 1, 2, 0, 0, 2, 1, 0, 0, 1, 1, 0, 0, 0, 1, 1, 0, 0, 0, 2, 1, 0, 0, 0, 0, 1, 1, 0, 0, 0, 4, 3, 1, 0, 0, 1, 4, 0, 0, 1, 1, 1, 0, 0, 0, 1, 0, 0, 1, 2, 1, 0, 0, 0, 0, 1, 0, 0, 0, 0, 5, 2, 1, 1, 0, 5, 0, 4, 0, 4, 3, 0, 0, 1, 2, 2, 1, 0, 2, 1, 0, 0, 2, 0, 1, 0, 0, 1, 1, 1, 0, 0, 0, 0, 1, 0, 1, 2, 2, 1, 0, 0, 0, 0, 0, 1, 1, 0, 1, 0, 0, 2, 0, 0, 6, 0, 0, 2, 0, 1, 0, 1, 1, 0, 4, 0, 3, 0, 1, 1, 1, 0, 1, 1, 0, 0, 2, 0, 1, 4, 0, 0, 1, 0, 1, 1, 1, 5, 0, 0, 1, 0, 2, 0, 1, 2, 2, 0, 1, 1, 0, 0, 1, 0, 0, 1, 1, 0, 2, 0, 3, 2, 0, 0, 0, 0, 0, 0, 0, 3, 0, 2, 2, 1, 1, 0, 2, 1, 0, 3, 0, 0, 0, 0, 1, 0, 0, 0, 2, 3, 1, 1, 0, 2, 3, 1, 1, 1, 0, 0, 0, 2, 0, 0, 1, 0, 1, 1, 1, 0, 0, 0, 0, 0, 0, 0, 0, 0, 2, 4, 1, 1, 0, 0, 0, 1, 0, 0, 1, 0, 1, 1, 0, 0, 0, 3, 0, 0, 5, 0, 4, 0, 0, 0, 2, 0, 1, 0, 0, 1, 0, 0, 2, 0, 0, 0, 3, 1, 0, 0, 1, 0, 0, 0, 1, 2, 0, 0, 2, 0, 0, 0, 1, 0, 1, 0, 0, 0, 0, 1, 0, 0, 6, 0, 2, 3, 1, 1, 1, 0, 0, 1, 2, 0, 0, 0, 0, 0, 3, 0, 3, 2, 0, 0, 0, 0, 0, 5, 0, 1, 1, 0, 0, 2, 0, 0, 1, 4, 0, 1, 1, 4, 2, 2, 1, 1, 0, 1, 0, 0, 2, 2, 1, 2, 1, 0, 4, 0, 1, 4, 3, 0, 0, 3, 2, 0, 0, 0, 1, 0, 1, 3, 1, 1, 0, 3, 1, 1, 0, 4, 0, 0, 1, 2, 0, 2, 1, 0, 0, 0, 0, 0, 1, 1, 0, 0, 1, 1, 2, 0, 5, 0, 1, 0, 1, 0, 1, 2, 0, 1, 0, 3, 0, 3, 1, 4, 3, 4, 0, 1, 1, 0, 0, 2, 1, 0, 1, 2, 0, 1, 0, 4, 3, 0, 0, 0, 0, 3, 0, 1, 2, 1, 0, 1, 1, 0, 0, 1, 1, 0, 0, 1, 0, 1, 4, 0, 0, 0, 2, 0, 0, 0, 2, 0, 0, 0, 0, 0, 1, 0, 0, 0, 0, 1, 2, 0, 0, 0, 1, 3, 0, 2, 0, 0, 0, 0, 2, 0, 0, 0, 2, 1, 0, 0, 1, 1, 0, 0, 4, 3, 0, 1, 1, 1, 2, 0, 2, 0, 3, 0, 1, 4, 0, 1, 0, 0, 0, 1, 0, 1, 0, 0, 0, 0, 0, 0, 5, 1, 0, 1, 2, 1, 1, 2, 0, 2, 0, 1, 1, 0, 1, 0, 1, 0, 0, 2, 2, 0, 1, 0, 0, 0, 0, 0, 0, 1, 4, 0, 0, 2, 0, 2, 0, 0, 1, 1, 1, 0, 3, 0, 4, 0, 0, 2, 6, 2, 0, 1, 0, 0, 1, 0, 0, 1, 0, 3, 1, 2, 1, 2, 1, 0, 1, 0, 1, 0, 0, 0, 3, 0, 0, 2, 2, 1, 3, 0, 2, 3, 3, 1, 0, 2, 1, 0, 0, 0, 0, 3, 0, 1, 0, 0, 1, 1, 1, 0, 1, 1, 0, 2, 0, 0, 0, 0, 0, 0, 0, 1, 3, 3, 3, 0, 0, 0, 0, 0, 3, 1, 1, 2, 0, 0, 6, 0, 3, 0, 1, 0, 0, 0, 1, 0, 1, 4, 2, 1, 0, 1, 0, 1, 0, 1, 3, 0, 3, 5, 0, 3, 0, 1, 1, 1, 0, 1, 1, 1, 3, 2, 1, 1, 0, 0, 0, 0, 7, 0, 1, 0, 2, 0, 0, 0, 1, 1, 0, 1, 0, 0, 3, 2, 2, 0, 1, 3, 0, 1, 2, 0, 0, 0, 1, 0, 1, 0, 1, 0, 1, 2, 3, 2, 1, 0, 0, 0, 0, 0, 2, 3, 1, 0, 0, 1, 0, 2, 0, 2, 2, 1, 0, 2, 0, 0, 1, 0, 0, 0, 0, 1, 1, 1, 2, 3, 2, 0, 0, 0, 0, 4, 0, 1, 0, 2, 1, 2, 1, 0, 1, 0, 0, 0, 1, 2, 0, 0, 2, 0, 1, 0, 2, 0, 0, 1, 4, 0, 0, 1, 0, 3, 0, 1, 4, 0, 0, 4, 1, 1, 0, 0, 2, 3, 0, 8, 2, 0, 0, 0, 0, 1, 0, 0, 3, 1, 0, 0, 0, 2, 0, 0, 0, 0, 1, 1, 0, 0, 0, 1, 1, 0, 1, 1, 1, 0, 1, 1, 1, 0, 0, 0, 0, 0, 0, 0, 1, 0, 1, 1, 1, 1, 0, 0, 2, 1, 0, 1, 3, 3, 1, 2, 0, 0, 0, 4, 0, 1, 1, 2, 5, 0, 1, 0, 1, 0, 0, 0, 1, 1, 0, 0, 0, 0, 0, 0, 0, 1, 3, 0, 0, 2, 4, 0, 2, 0, 2, 9, 0, 0, 2, 1, 1, 0, 0, 2, 0, 1, 0, 0, 0, 0, 2, 1, 0, 0, 0, 0, 1, 0, 3, 0, 0, 0, 5, 0, 0, 0, 0, 4, 2, 0, 1, 4, 0, 0, 0, 2, 0, 0, 0, 0, 0, 0, 0, 4, 0, 3, 0, 3, 1, 2, 1, 0, 0, 0, 3, 0, 0, 0, 0, 3, 1, 0, 5, 1, 1, 0, 1, 0, 1, 1, 0, 0, 3, 3, 0, 1, 1, 0, 0, 1, 0, 0, 0, 0, 1, 0, 0, 0, 0, 1, 1, 1, 1, 0, 2, 0, 5, 0, 1, 0, 1, 3, 2, 0, 3, 0, 0, 1, 3, 1, 0, 0, 3, 0, 0, 0, 1, 0, 0, 0, 3, 3, 1, 0, 0, 0, 1, 4, 2, 1, 0, 4, 2, 0, 3, 2, 3, 0, 1, 0, 0, 0, 0, 1, 1, 3, 0, 0, 0, 2, 0, 0, 0, 2, 0, 1, 1, 3, 0, 2, 2, 0, 1, 0, 1, 1, 1, 0, 1, 3, 0, 0, 1, 0, 2, 0, 0, 1, 1, 0, 0, 2, 1, 0, 1, 0, 0, 0, 0, 0, 1, 0, 2, 2, 2, 3, 0, 0, 3, 2, 2, 0, 4, 2, 0, 0, 0, 0, 2, 0, 1, 0, 1, 0, 0, 3, 1, 1, 6, 2, 0, 2, 0, 0, 0, 3, 0, 1, 1, 3, 3, 1, 1, 1, 4, 0, 0, 3, 1, 7, 2, 2, 0, 0, 9, 0, 0, 1, 0, 8, 0, 5, 1, 0, 0, 1, 12, 0, 3, 0, 0, 1, 0, 0, 0, 3, 0, 0, 0, 0, 4, 1, 0, 3, 0, 1, 0, 0, 0, 0, 0, 0, 0, 0, 0, 1, 1, 3, 0, 3, 6, 0, 1, 0, 1, 0, 1, 0, 0, 3, 1, 1, 0, 1, 3, 0, 7, 0, 0, 2, 2, 0, 0, 1, 1, 5, 0, 1, 0, 1, 4, 4, 0, 0, 0, 1, 0, 0, 0, 0, 1, 0, 6, 4, 1, 0, 3, 1, 0, 0, 1, 1, 0, 1, 0, 0, 2, 0, 2, 2, 1, 1, 0, 0, 0, 0, 4, 1, 2, 0, 1, 0, 0, 1, 0, 1, 1, 2, 2, 3, 0, 0, 2, 0, 1, 6, 1, 0, 0, 0, 0, 3, 1, 1, 0, 5, 0, 1, 0, 0, 0, 1, 2, 1, 0, 0, 2, 0, 2, 1, 1, 0, 1, 0, 0, 0, 0, 0, 0, 2, 1, 0, 1, 0, 0, 2, 0, 9, 0, 0, 0, 0, 1, 0, 3, 1, 0, 0, 0, 0, 0, 3, 0, 1, 1, 1, 0, 0, 1, 0, 3, 0, 0, 1, 0, 1, 1, 4, 0, 0, 2, 1, 5, 0, 0, 0, 1, 1, 2, 0, 0, 0, 1, 1, 0, 1, 1, 2, 1, 3, 1, 0, 5, 1, 1, 0, 5, 1, 0, 2, 0, 0, 5, 3, 1, 0, 0, 2, 3, 0, 0, 1, 3, 0, 2, 2, 1, 1, 2, 2, 1, 0, 0, 1, 1, 1, 1, 1, 0, 1, 0, 1, 1, 5, 1, 1, 1, 1, 1, 1, 0, 2, 0, 0, 0, 6, 2, 2, 2, 1, 3, 0, 0, 2, 1, 1, 1, 2, 4, 3, 0, 1, 2, 1, 2, 1, 0, 1, 0, 0, 2, 1, 2, 0, 1, 2, 0, 0, 0, 4, 2, 0, 1, 1, 0, 2, 0, 0, 0, 2, 0, 1, 1, 0, 1, 0, 2, 2, 0, 0, 1, 0, 0, 0, 1, 0, 0, 6, 0, 0, 0, 0, 0, 0, 0, 1, 2, 2, 0, 2, 2, 0, 0, 5, 0, 2, 4, 1, 3, 0, 1, 0, 0, 0, 0, 1, 1, 0, 0, 0, 1, 1, 0, 0, 0, 0, 0, 0, 6, 0, 2, 2, 0, 1, 0, 0, 0, 2, 1, 1, 0, 3, 1, 1, 2, 1, 1, 2, 0, 0, 0, 0, 2, 2, 1, 2, 0, 0, 0, 0, 3, 0, 0, 1, 3, 0, 1, 0, 0, 3, 0, 0, 0, 2, 0, 0, 0, 1, 1, 1, 0, 0, 0, 3, 0, 1, 0, 1, 0, 0, 2, 0, 0, 0, 2, 0, 5, 2, 0, 1, 0, 4, 5, 1, 0, 0, 0, 0, 2, 0, 1, 0, 0, 0, 0, 2, 1, 2, 1, 3, 0, 1, 0, 2, 3, 2, 1, 0, 0, 0, 1, 0, 0, 0, 0, 0, 0, 0, 0, 0, 1, 0, 0, 0, 1, 2, 1, 2, 0, 0, 1, 0, 0, 2, 0, 2, 0, 0, 0, 0, 0, 9, 3, 0, 0, 0, 4, 2, 1, 1, 1, 1, 0, 3, 0, 0, 0, 0, 4, 2, 1, 2, 0, 1, 0, 0, 3, 0, 0, 0, 1, 0, 3, 1, 1, 0, 1, 0, 0, 1, 2, 0, 0, 2, 0, 4, 1, 0, 1, 0, 1, 0, 1, 3, 1, 1, 9, 0, 0, 1, 1, 1, 0, 0, 0, 0, 7, 1, 0, 1, 1, 0, 2, 0, 3, 0, 6, 0, 1, 0, 0, 1, 1, 2, 1, 1, 1, 0, 2, 0, 0, 0, 2, 4, 1, 0, 0, 0, 0, 3, 0, 1, 0, 1, 0, 0, 0, 2, 0, 1, 1, 2, 1, 0, 1, 1, 1, 1, 1, 0, 0, 3, 5, 0, 1, 4, 0, 2, 1, 1, 0, 1, 1, 1, 4, 0, 3, 1, 1, 2, 2, 1, 0, 2, 2, 0, 0, 0, 1, 0, 3, 0, 0, 3, 0, 0, 0, 2, 0, 0, 0, 3, 1, 0, 1, 2, 0, 1, 1, 2, 0, 0, 3, 4, 0, 0, 1, 8, 6, 2, 0, 0, 0, 0, 1, 0, 0, 0, 1, 0, 1, 0, 1, 2, 0, 1, 3, 3, 2, 2, 0, 0, 0, 1, 1, 0, 0, 1, 1, 1, 1, 1, 1, 0, 0, 0, 2, 1, 7, 0, 2, 0, 0, 0, 3, 0, 1, 1, 0, 1, 0, 0, 0, 1, 1, 3, 0, 2, 0, 3, 0, 0, 2, 2, 0, 3, 0, 0, 0, 0, 3, 0, 1, 2, 0, 3, 0, 0, 0, 0, 2, 2, 0, 4, 3, 1, 0, 1, 2, 0, 3, 1, 1, 0, 0, 0, 0, 2, 1, 3, 0, 0, 0, 2, 2, 0, 0, 1, 0, 0, 0, 2, 5, 8, 1, 0, 1, 0, 3, 0, 0, 4, 0, 1, 0, 2, 0, 1, 1, 0, 2, 0, 1, 2, 0, 0, 0, 1, 2, 1, 0, 4, 0, 0, 0, 0, 0, 2, 1, 1, 2, 2, 2, 0, 0, 2, 0, 0, 1, 0, 0, 1, 1, 0, 1, 1, 0, 2, 0, 1, 1, 0, 3, 1, 2, 0, 1, 0, 0, 5, 0, 0, 0, 2, 0, 0, 0, 1, 0, 0, 0, 1, 0, 0, 1, 4, 0, 0, 1, 2, 1, 0, 0, 0, 0, 1, 0, 3, 4, 1, 0, 0, 0, 0, 3, 1, 1, 1, 2, 0, 1, 0, 1, 2, 4, 0, 1, 5, 0, 0, 0, 1, 0, 2, 1, 1, 2, 2, 0, 2, 3, 1, 3, 0, 1, 1, 1, 2, 0, 0, 2, 0, 1, 0, 1, 1, 1, 1, 0, 0, 1, 0, 0, 2, 0, 0, 0, 0, 0, 2, 0, 1, 0, 0, 0, 0, 0, 1, 1, 1, 0, 1, 0, 1, 1, 0, 3, 0, 1, 0, 2, 1, 0, 2, 1, 8, 0, 0, 0, 0, 0, 0, 2, 0, 0, 1, 0, 0, 5, 0, 0, 6, 1, 0, 0, 0, 2, 0, 0, 4, 0, 2, 2, 0, 1, 0, 1, 3, 2, 0, 0, 2, 1, 2, 0, 1, 0, 0, 0, 0, 1, 0, 1, 1, 2, 3, 0, 0, 0, 5, 3, 1, 0, 0, 1, 1, 2, 0, 0, 4, 2, 2, 1, 2, 2, 0, 0, 0, 0, 0, 1, 0, 0, 1, 4, 1, 0, 0, 2, 1, 2, 2, 1, 0, 0, 0, 0, 0, 5, 0, 1, 0, 0, 2, 0, 0, 1, 0, 0, 0, 0, 2, 2, 2, 0, 0, 1, 0, 4, 1, 3, 1, 0, 3, 2, 0, 0, 1, 1, 0, 2, 0, 0, 2, 1, 0, 0, 0, 0, 2, 0, 1, 2, 2, 0, 1, 0, 0, 1, 2, 1, 0, 0, 4, 0, 1, 1, 0, 0, 1, 3, 0, 0, 0, 2, 0, 0, 4, 2, 3, 0, 3, 0, 0, 0, 1, 0, 0, 2, 1, 1, 1, 0, 2, 0, 2, 0, 4, 1, 0, 0, 0, 0, 0, 0, 2, 1, 0, 2, 0, 0, 1, 0, 2, 2, 0, 2, 1, 0, 0, 1, 1, 1, 1, 1, 0, 0, 0, 0, 0, 0, 0, 7, 1, 1, 4, 1, 1, 1, 2, 1, 9, 0, 3, 1, 4, 0, 1, 1, 1, 0, 0, 2, 1, 0, 0, 5, 3, 1, 1, 0, 0, 0, 0, 3, 2, 1, 1, 2, 0, 1, 0, 0, 1, 0, 0, 1, 1, 1, 0, 0, 1, 0, 1, 0, 1, 0, 0, 0, 1, 1, 0, 0, 1, 2, 4, 0, 1, 0, 1, 0, 2, 0, 2, 0, 0, 0, 1, 0, 4, 2, 0, 0, 0, 0, 0, 0, 0, 0, 1, 2, 2, 0, 0, 0, 0, 0, 0, 0, 0, 0, 1, 6, 0, 1, 0, 3, 0, 0, 0, 1, 0, 2, 2, 0, 0, 0, 0, 0, 2, 1, 0, 0, 0, 0, 1, 0, 0, 1, 0, 1, 0, 1, 0, 5, 0, 0, 0, 0, 5, 0, 0, 0, 1, 5, 0, 0, 4, 3, 4, 4, 0, 0, 4, 0, 0, 0, 0, 1, 1, 1, 0, 0, 0, 0, 11, 0, 0, 0, 0, 1, 0, 2, 2, 0, 0, 1, 0, 0, 0, 0, 5, 2, 1, 1, 3, 0, 3, 5, 0, 2, 0, 1, 0, 2, 1, 2, 0, 0, 0, 1, 2, 3, 2, 0, 0, 0, 0, 0, 2, 0, 1, 2, 0, 0, 2, 1, 1, 0, 1, 0, 2, 0, 1, 5, 3, 0, 0, 1, 0, 3, 0, 2, 0, 3, 0, 0, 3, 0, 0, 0, 1, 1, 3, 0, 0, 0, 0, 3, 4, 4, 2, 4, 1, 0, 1, 1, 4, 1, 0, 1, 2, 1, 2, 2, 1, 0, 0, 2, 0, 3, 8, 0, 1, 0, 4, 3, 1, 1, 0, 0, 0, 1, 0, 2, 0, 0, 0, 2, 2, 0, 0, 0, 0, 0, 1, 1, 0, 0, 2, 0, 0, 1, 3, 0, 0, 0, 1, 0, 0, 0, 1, 2, 1, 0, 2, 2, 1, 0, 2, 2, 0, 0, 3, 1, 3, 0, 0, 3, 3, 3, 0, 1, 0, 1, 2, 0, 4, 0, 2, 1, 2, 1, 1, 2, 5, 0, 3, 6, 0, 2, 3, 0, 1, 0, 0, 0, 0, 2, 1, 0, 2, 0, 0, 0, 0, 0, 0, 2, 1, 1, 1, 0, 2, 0, 1, 1, 7, 6, 0, 1, 0, 0, 0, 0, 0, 2, 2, 1, 0, 0, 0, 0, 3, 0, 0, 0, 0, 0, 0, 2, 0, 1, 2, 0, 0, 0, 6, 4, 0, 2, 1, 0, 0, 1, 2, 10, 1, 0, 0, 1, 1, 1, 0, 0, 1, 4, 2, 0, 1, 4, 2, 0, 0, 0, 1, 1, 3, 0, 1, 0, 0, 0, 1, 0, 0, 0, 2, 2, 1, 0, 2, 0, 1, 1, 2, 0, 1, 0, 0, 1, 1, 0, 1, 0, 0, 1, 0, 0, 0, 1, 3, 3, 0, 0, 2, 0, 2, 1, 2, 0, 1, 0, 0, 1, 4, 0, 1, 0, 0, 1, 2, 5, 0, 0, 0, 1, 1, 1, 0, 1, 2, 0, 0, 2, 1, 0, 0, 0, 2, 6, 0, 1, 3, 0, 0, 0, 0, 0, 2, 3, 0, 0, 1, 0, 6, 0, 0, 0, 1, 0, 2, 1, 2, 1, 0, 0, 3, 1, 0, 0, 0, 0, 0, 0, 1, 0, 0, 1, 3, 0, 1, 0, 3, 0, 0, 0, 1, 0, 0, 0, 0, 0, 1, 0, 0, 3, 0, 0, 1, 0, 1, 0, 0, 1, 0, 0, 0, 0, 1, 0, 1, 0, 0, 1, 0, 0, 1, 1, 3, 1, 0, 0, 2, 11, 0, 0, 1, 1, 1, 0, 0, 2, 3, 2, 2, 0, 2, 0, 0, 1, 8, 0, 0, 1, 1, 4, 0, 0, 0, 1, 0, 0, 0, 2, 3, 0, 2, 2, 1, 2, 0, 0, 1, 0, 1, 2, 0, 1, 1, 2, 0, 0, 1, 0, 1, 2, 0, 0, 1, 0, 2, 0, 3, 1, 0, 0, 1, 0, 0, 0, 7, 0, 1, 1, 0, 4, 0, 0, 1, 1, 1, 0, 0, 2, 1, 5, 1, 0, 0, 1, 0, 0, 0, 1, 0, 5, 0, 0, 1, 2, 0, 2, 0, 2, 2, 2, 1, 6, 3, 0, 3, 0, 0, 0, 0, 2, 1, 2, 0, 0, 1, 0, 0, 1, 2, 0, 1, 3, 0, 0, 0, 3, 2, 2, 0, 0, 1, 0, 6, 0, 1, 1, 3, 0, 0, 1, 0, 0, 0, 1, 0, 0, 0, 0, 1, 1, 2, 0, 0, 3, 0, 0, 3, 2, 1, 0, 1, 1, 0, 0, 3, 1, 1, 0, 0, 0, 0, 1, 0, 4, 0, 0, 1, 0, 0, 2, 5, 0, 0, 1, 1, 3, 1, 0, 1, 2, 0, 0, 1, 3, 2, 3, 0, 0, 1, 1, 0, 1, 0, 0, 1, 2, 1, 2, 2, 2, 0, 0, 0, 0, 0, 1, 2, 0, 0, 0, 0, 0, 0, 1, 0, 0, 1, 1, 0, 2, 1, 0, 0, 2, 2, 3, 0, 1, 0, 1, 1, 0, 3, 7, 1, 0, 7, 2, 0, 0, 1, 1, 1, 0, 0, 0, 1, 0, 0, 0, 0, 2, 0, 0, 5, 0, 0, 1, 0, 1, 3, 0, 1, 0, 5, 1, 0, 2, 1, 0, 2, 2, 0, 1, 0, 0, 0, 0, 2, 1, 0, 1, 0, 0, 2, 1, 0, 0, 0, 1, 1, 2, 1, 0, 0, 0, 1, 8, 5, 3, 0, 0, 0, 1, 0, 0, 2, 0, 0, 1, 0, 5, 0, 1, 0, 1, 0, 1, 2, 0, 0, 0, 4, 2, 0, 0, 0, 0, 0, 1, 1, 0, 0, 0, 0, 0, 0, 0, 0, 0, 2, 2, 1, 0, 1, 2, 0, 1, 2, 0, 0, 1, 1, 1, 2, 2, 2, 3, 0, 0, 0, 0, 1, 0, 0, 1, 3, 0, 2, 0, 0, 0, 1, 0, 1, 1, 1, 0, 0, 2, 3, 1, 5, 0, 1, 1, 0, 1, 1, 1, 0, 1, 2, 1, 3, 1, 5, 1, 2, 1, 11, 0, 0, 2, 0, 1, 0, 2, 0, 2, 0, 0, 0, 1, 2, 1, 0, 5, 0, 2, 1, 0, 0, 1, 0, 0, 3, 1, 0, 0, 0, 1, 2, 0, 4, 0, 1, 0, 0, 0, 0, 1, 1, 3, 0, 0, 1, 0, 2, 0, 3, 2, 0, 0, 0, 0, 0, 1, 0, 1, 2, 0, 0, 0, 0, 2, 0, 2, 1, 0, 0, 0, 1, 0, 2, 0, 1, 1, 1, 0, 1, 0, 1, 0, 1, 0, 0, 0, 1, 1, 0, 1, 1, 1, 0, 3, 1, 2, 0, 0, 0, 3, 1, 0, 0, 2, 1, 0, 0, 0, 0, 5, 0, 0, 0, 0, 1, 0, 1, 2, 2, 1, 0, 4, 4, 1, 1, 0, 3, 2, 0, 0, 1, 3, 0, 1, 0, 1, 1, 2, 1, 0, 2, 0, 0, 0, 2, 1, 5, 0, 0, 0, 0, 3, 0, 0, 0, 2, 0, 0, 2, 0, 0, 1, 0, 0, 0, 0, 1, 0, 0, 1, 0, 0, 4, 0, 0, 1, 1, 4, 0, 0, 0, 2, 2, 1, 0, 1, 12, 0, 1, 0, 5, 1, 0, 4, 0, 1, 1, 0, 0, 1, 0, 1, 2, 1, 0, 0, 3, 0, 2, 0, 1, 3, 2, 1, 0, 0, 0, 1, 1, 0, 2, 1, 0, 0, 0, 3, 0, 2, 0, 1, 3, 1, 3, 1, 0, 4, 0, 0, 1, 2, 0, 0, 2, 1, 0, 0, 0, 3, 1, 0, 2, 1, 0, 2, 0, 2, 0, 3, 1, 1, 0, 0, 0, 0, 0, 0, 4, 5, 3, 4, 0, 1, 1, 1, 0, 1, 1, 5, 1, 0, 1, 0, 4, 1, 1, 1, 3, 0, 1, 4, 2, 0, 0, 1, 1, 3, 0, 3, 0, 2, 2, 1, 0, 0, 0, 1, 4, 0, 0, 3, 0, 0, 1, 0, 2, 1, 1, 1, 3, 1, 2, 1, 2, 0, 0, 2, 0, 0, 1, 0, 0, 0, 1, 0, 5, 2, 0, 1, 1, 2, 1, 0, 2, 1, 2, 0, 0, 0, 1, 0, 0, 1, 0, 0, 0, 0, 0, 0, 1, 2, 0, 1, 0, 5, 1, 1, 0, 1, 0, 0, 0, 0, 0, 0, 0, 5, 0, 1, 0, 0, 1, 0, 3, 0, 0, 0, 1, 0, 2, 3, 0, 1, 0, 1, 2, 3, 1, 2, 0, 0, 1, 2, 1, 0, 0, 1, 1, 3, 1, 0, 2, 0, 0, 0, 1, 2, 0, 0, 1, 0, 0, 0, 0, 1, 1, 2, 1, 1, 1, 1, 0, 2, 2, 0, 3, 1, 0, 0, 0, 1, 0, 0, 0, 1, 0, 1, 0, 2, 3, 0, 0, 0, 0, 0, 0, 0, 0, 2, 0, 3, 0, 1, 3, 0, 0, 1, 2, 3, 0, 4, 0, 3, 3, 0, 2, 3, 1, 0, 0, 2, 0, 2, 0, 0, 0, 2, 1, 1, 1, 2, 1, 1, 0, 3, 1, 1, 0, 5, 3, 1, 1, 1, 3, 0, 0, 0, 0, 0, 1, 0, 0, 1, 1, 1, 0, 2, 2, 2, 0, 3, 0, 0, 2, 0, 0, 0, 1, 1, 2, 1, 0, 2, 0, 0, 1, 6, 0, 0, 1, 2, 2, 0, 1, 0, 5, 2, 0, 0, 2, 0, 2, 1, 3, 0, 3, 5, 4, 1, 3, 1, 1, 1, 2, 0, 0, 0, 0, 0, 0, 2, 6, 1, 0, 2, 0, 0, 0, 0, 0, 1, 0, 0, 1, 2, 1, 0, 1, 0, 3, 0, 0, 0, 0, 1, 0, 2, 0, 0, 1, 3, 0, 1, 0, 2, 1, 0, 1, 0, 2, 0, 1, 1, 1, 0, 0, 2, 0, 0, 0, 0, 2, 0, 1, 0, 1, 0, 1, 0, 1, 0, 0, 2, 0, 0, 2, 1, 5, 0, 4, 0, 1, 1, 1, 1, 0, 0, 0, 0, 1, 2, 0, 2, 0, 0, 0, 3, 3, 0, 0, 1, 0, 3, 2, 0, 0, 5, 5, 0, 0, 1, 2, 0, 1, 0, 1, 0, 0, 0, 1, 3, 1, 0, 0, 4, 5, 0, 5, 1, 2, 0, 0, 0, 1, 0, 0, 0, 1, 1, 1, 6, 0, 1, 0, 1, 2, 0, 0, 4, 2, 0, 2, 1, 4, 0, 0, 5, 0, 0, 0, 1, 1, 3, 2, 1, 0, 0, 0, 0, 0, 4, 0, 1, 2, 0, 1, 0, 1, 3, 0, 0, 2, 2, 0, 0, 0, 2, 0, 1, 0, 0, 0, 1, 0, 0, 2, 8, 0, 0, 2, 0, 0, 1, 2, 0, 2, 2, 0, 10, 5, 0, 0, 0, 0, 1, 5, 2, 0, 0, 0, 0, 1, 0, 2, 0, 0, 3, 1, 2, 1, 1, 0, 0, 1, 0, 1, 0, 3, 1, 0, 1, 0, 0, 1, 0, 1, 0, 2, 0, 0, 1, 0, 0, 4, 1, 0, 0, 0, 0, 0, 0, 1, 0, 1, 1, 1, 2, 0, 0, 0, 1, 3, 0, 1, 1, 1, 0, 1, 0, 0, 2, 2, 0, 0, 3, 1, 2, 1, 3, 2, 1, 0, 1, 1, 0, 0, 3, 0, 0, 0, 5, 2, 0, 1, 1, 2, 3, 0, 2, 4, 2, 1, 0, 0, 2, 4, 1, 0, 1, 1, 0, 0, 0, 1, 1, 1, 0, 3, 1, 0, 0, 1, 2, 1, 1, 0, 0, 0, 0, 3, 0, 0, 0, 0, 0, 2, 1, 1, 1, 1, 1, 0, 4, 3, 1, 0, 2, 0, 0, 0, 2, 2, 0, 4, 2, 1, 2, 1, 0, 1, 2, 0, 1, 0, 4, 2, 0, 0, 2, 3, 1, 1, 0, 1, 0, 2, 2, 1, 0, 2, 0, 0, 1, 0, 0, 1, 0, 0, 1, 1, 0, 2, 1, 0, 0, 1, 1, 1, 1, 3, 0, 0, 0, 0, 0, 0, 0, 1, 1, 0, 2, 0, 0, 5, 0, 1, 2, 2, 2, 0, 5, 0, 4, 0, 1, 1, 0, 1, 1, 0, 0, 0, 2, 2, 1, 7, 1, 0, 0, 0, 0, 1, 0, 3, 1, 2, 2, 1, 0, 0, 3, 0, 0, 1, 4, 0, 1, 0, 0, 0, 0, 0, 2, 0, 0, 1, 1, 1, 0, 4, 1, 3, 7, 7, 1, 1, 0, 2, 0, 0, 0, 1, 3, 0, 3, 2, 2, 1, 3, 0, 6, 0, 5, 0, 0, 0, 1, 0, 0, 0, 4, 1, 0, 1, 1, 0, 0, 1, 1, 1, 0, 3, 0, 3, 1, 0, 0, 0, 1, 3, 0, 0, 0, 0, 1, 0, 0, 0, 0, 0, 1, 0, 0, 1, 1, 1, 0, 2, 1, 0, 1, 0, 0, 1, 0, 2, 0, 1, 0, 3, 2, 1, 2, 0, 1, 0, 0, 4, 0, 0, 0, 0, 0, 0, 0, 0, 0, 0, 0, 1, 1, 0, 0, 0, 1, 3, 1, 1, 2, 0, 0, 0, 3, 0, 0, 5, 1, 0, 1, 2, 3, 0, 0, 0, 3, 0, 2, 0, 0, 0, 0, 1, 0, 0, 0, 0, 3, 1, 0, 1, 1, 0, 3, 1, 1]\n"
     ]
    }
   ],
   "source": [
    "# Création de la liste qui va contenir les résultats de la simulation\n",
    "nombre_de_reussites_par_partie = []\n",
    "\n",
    "# Et simulons pour 5000 parties. Ce nombre reste suffisamment modeste pour fonctionner sur n'importe quel ordinateur actuel en quelques secondes\n",
    "for i in range(1,5000):\n",
    "    liste_boite = []\n",
    "\n",
    "    for i in range (1,27):\n",
    "        liste_boite.append(i)\n",
    "\n",
    "    liste_somme = [0.01,1,5,10,25,50,75,100,200,300,400,500,750,1000,5000,10000,25000,50000,75000,100000,200000,300000,400000,500000,750000,1000000]\n",
    "    rd.shuffle(liste_somme)\n",
    "\n",
    "    nouveau_jeu = pd.DataFrame(liste_somme, index=liste_boite , columns=['Somme contenue dans la boîte'])\n",
    "    nouveau_jeu.index.name = 'Boîte'\n",
    "\n",
    "    liste_choix = nouveau_jeu.index\n",
    "    choix_boite = rd.choices(liste_choix, k=1)\n",
    "    choix_boite = int(choix_boite[0])\n",
    "    liste_choix = liste_choix.drop(choix_boite)\n",
    "\n",
    "    somme1 = nouveau_jeu.loc[choix_boite]\n",
    "    somme1 = float(somme1.iloc[0])\n",
    "\n",
    "    prediction = [\"plus haute\",\"plus basse\"]\n",
    "\n",
    "    reussite = 0\n",
    "    continuer = \"oui\"\n",
    "\n",
    "    while continuer == \"oui\":\n",
    "        choix_prediction = rd.choices(prediction, k=1)\n",
    "        choix_boite = rd.choices(liste_choix, k=1)\n",
    "        choix_boite = int(choix_boite[0])\n",
    "        liste_choix = liste_choix.drop(choix_boite)\n",
    "        somme2 = nouveau_jeu.loc[choix_boite]\n",
    "        somme2 = float(somme2.iloc[0])\n",
    "        if somme2 > somme1:\n",
    "            if choix_prediction[0] == \"plus haute\":\n",
    "                reussite += 1\n",
    "                somme1 = somme2\n",
    "            if choix_prediction[0] == \"plus basse\":\n",
    "                continuer = \"non\"\n",
    "        if somme2 < somme1:\n",
    "            if choix_prediction[0] == \"plus basse\":\n",
    "                reussite += 1\n",
    "                somme1 = somme2\n",
    "            if choix_prediction[0] == \"plus haute\":\n",
    "                continuer = \"non\"\n",
    "        if reussite == 25:\n",
    "            continuer = \"non\"\n",
    "    \n",
    "    # Nous rajoutons à la liste la réussite à la fin de la simulation, peu importe comment celle-ci s'est terminée\n",
    "    nombre_de_reussites_par_partie.append(reussite)\n",
    "\n",
    "# Et si souhaité, nous pouvons afficher la liste\n",
    "print(nombre_de_reussites_par_partie)"
   ]
  },
  {
   "cell_type": "markdown",
   "id": "b9b6c834-7b47-4ba1-af19-4505d8de143e",
   "metadata": {},
   "source": [
    "Evidemment, rien ne saute aux yeux de cette manière. Mais nous allons utiliser ce jeu de données pour le visualiser sous la forme d'un histogramme."
   ]
  },
  {
   "cell_type": "code",
   "execution_count": 429,
   "id": "d0a8849f",
   "metadata": {},
   "outputs": [
    {
     "data": {
      "image/png": "[encoded data removed]",
      "text/plain": [
       "<Figure size 640x480 with 1 Axes>"
      ]
     },
     "metadata": {},
     "output_type": "display_data"
    }
   ],
   "source": [
    "# Récupérons chaque élément unique de la liste\n",
    "nombre_de_reussites = list(set(nombre_de_reussites_par_partie))\n",
    "\n",
    "# Calculons la fréquence de chaque élément\n",
    "frequences = [nombre_de_reussites_par_partie.count(reussites) for reussites in nombre_de_reussites]\n",
    "\n",
    "# Et créons notre histogramme\n",
    "plt.bar(nombre_de_reussites, frequences)\n",
    "plt.xlabel('Nombre de réussites')\n",
    "plt.ylabel('Nombre de parties')\n",
    "plt.title('Nombre de réussites pour 5000 parties')\n",
    "\n",
    "# En sachant que le nombre de réussites est compris entre 0 et 25, on limite l'axe X\n",
    "plt.xlim(-1, 25)\n",
    "plt.show()"
   ]
  },
  {
   "cell_type": "markdown",
   "id": "0c28a9f0-6ab3-424e-bb97-ca4e56d0961e",
   "metadata": {},
   "source": [
    "Résultat assez frustrant... Nous pouvons même vérifier quel est le maximum du nombre de réussites :"
   ]
  },
  {
   "cell_type": "code",
   "execution_count": 431,
   "id": "21be8e57",
   "metadata": {},
   "outputs": [
    {
     "data": {
      "text/plain": [
       "12"
      ]
     },
     "execution_count": 431,
     "metadata": {},
     "output_type": "execute_result"
    }
   ],
   "source": [
    "max(nombre_de_reussites_par_partie)"
   ]
  },
  {
   "cell_type": "markdown",
   "id": "283373b3-0432-4c14-9c69-2ade2e3a1b52",
   "metadata": {},
   "source": [
    "Et comme nous le voyons, nous ne sommes pas du tout à 25. Nous en sommes même à un peu moins de la moitié en général (si vous obtenez plus, vous êtes chanceux !). Mais... **est-ce que cela représente réellement la difficulté du succès ? Et bien non.** Pour ceux ayant une bonne mémoire : j'avais bien dit que modéliser la situation réelle était trop complexe... Alors qu'ici, nous pouvons facilement modéliser cette situation de façon mathématique, pour calculer le **nombre de parties** nécessaire pour espérer une réussite à 25 !"
   ]
  },
  {
   "cell_type": "markdown",
   "id": "f50fdc00-cb71-4b00-815a-46daa9693ca3",
   "metadata": {},
   "source": [
    "<h3><font color='#4bba13'><b>MODÉLISATION MATHÉMATIQUE DU PREMIER MODÈLE</b></font></h3>"
   ]
  },
  {
   "cell_type": "markdown",
   "id": "17c02753-0ffb-4b82-9dab-eaa09d9c6fea",
   "metadata": {},
   "source": [
    "En effet, la prédiction est choisie de façon **aléatoire** : nous sommes donc partis du principe que **chaque prédiction est indépendante de tous les autres résultats.**  \n",
    "\n",
    "Or, nous savons qu'en mathématique, la **probabilité de la réalisation consécutive de deux évènements indépendants A et B** est donnée par : $$P(A∩B)=P(A)×P(B)$$  \n",
    "Ici, si nous notons :\n",
    "- $\\theta$ la **probabilité de réussir le succès**, qui est  ce que nous voulons calculer,\n",
    "- $C_n$ le n-ième choix / la n-ième prédiction à faire,\n",
    "- et $\\Omega$ l'ensemble des entiers naturels compris entre 1 et 25,\n",
    "\n",
    "la **probabilité de réaliser 25 fois la bonne prédiction (et donc, obtenir le succès)** est de :  \n",
    "$$\\theta = P(\\bigcap_{n \\in \\Omega} C_n) = \\prod_{n=1}^{25} P(C_n)$$  \n",
    "Ce qui se traduit, en notation un peu moins mathématique :  \n",
    "$$\\theta = P(C_1∩C_2∩C_3 ∩ ... ∩ C_{24}∩C_{25}) = P(C_1).P(C_2).P(C_3)...P(C_{24}).P(C_{25})$$  \n",
    "Or, à chaque étape, il y a 2 choix possibles et un seul est le bon. Cela fait $\\frac{1}{2}$ d'avoir le bon résultat. Ce qui signifie que :\n",
    "$$P(C_1) = P(C_2) = P(C_3) = ... = P(C_{24}) = P(C_{25}) = \\frac{1}{2}$$\n",
    "Et donc, le résultat recherché vaut donc :\n",
    "$$\\theta = \\frac{1}{2}.\\frac{1}{2}.\\frac{1}{2}...\\frac{1}{2}.\\frac{1}{2} = \\frac{1}{2^{25}} \\approx 2,98.10^{-8} = 0,0000000298$$\n",
    "\n",
    "Et comme nous souhaitons toujours, pour rappel :\n",
    "- savoir combien de parties il faut faire avant d'obtenir pour la première fois un événement,\n",
    "- que cet événement a une probabilité d'apparition comprise entre 0 et 1,\n",
    "- et que chaque partie est indépendante les unes des autres, ce qui signifie que le résultat d'une partie n'influera pas le résultat d'une autre partie,\n",
    "\n",
    "notre modèle suit donc une **loi géométrique** de paramètre $P = \\frac {1}{2^{25}} \\approx 0,0000000298$.  \n",
    "\n",
    "Nous pouvons donc calculer **l'espérance**, qui vaut, ici, $E = \\frac {1}{1/2{25}} = 33 554 432.$"
   ]
  },
  {
   "cell_type": "markdown",
   "id": "d539b8f6-d73e-49ec-a432-3c7310353580",
   "metadata": {},
   "source": [
    "<h3><font color='#4bba13'><b>RÉSUMÉ ET DÉDUCTIONS</b></font></h3>"
   ]
  },
  {
   "cell_type": "markdown",
   "id": "215b44ad-7170-4e1b-8847-4e81ba8be62d",
   "metadata": {},
   "source": [
    "Non, vous ne rêvez pas.  \n",
    "<font color='#944fd9'><b> Avec cette technique, il y a environ **0,00000003\\%** de chance de réussite et il faudrait plus de **33 millions de parties** pour espérer obtenir le succès. Pas étonnant qu'une simulation de 5000 parties n'ait pas suffi pour obtenir une partie gagnante. Selon les standards du site RetroAchievements, il n'existe pas de valeur acceptable pour un tel succès : il terminerait dans ce que l'on appelle un **\"Unwelcome concept\"** (\"concept indésirable\") d'après le **[code de conduite du développeur](https://docs.retroachievements.org/guidelines/content/unwelcome-concepts.html#overly-rng-reliant).**</b></font>  \n",
    "En effet, au paragraphe `Overly RNG Reliant` (traduction : *Trop de dépendance à l'aléatoire*) stipule qu'un concept est indésirable lorsqu'il rentre dans cette catégorie :  "
   ]
  },
  {
   "cell_type": "markdown",
   "id": "034d6bf4-6cb0-4d50-aa2c-0ab10712a4e2",
   "metadata": {},
   "source": [
    "---"
   ]
  },
  {
   "cell_type": "markdown",
   "id": "c875f7b3-0b95-4d93-883b-fe67acee099e",
   "metadata": {},
   "source": [
    "\n",
    "`Rely entirely on randomness, especially when there are extremely low odds.`  \n",
    "Traduction : *Repose entièrement sur l'aléatoire, en particulier lorsque les probabilités sont extrêmement faibles.*"
   ]
  },
  {
   "cell_type": "markdown",
   "id": "181cf94f-43b5-4f3c-b69c-ad76d6687564",
   "metadata": {},
   "source": [
    "---"
   ]
  },
  {
   "cell_type": "markdown",
   "id": "a6d0f28c-9f8a-4384-b8cd-952e5c44b0d2",
   "metadata": {},
   "source": [
    "\n",
    "Mais alors, faut-il bannir ce succès ? Nos résultats sont-ils faux ? ... Ou bien, y a-t-il une stratégie plus efficace ? Je vous épargne le suspense, il existe bien une stratégie plus efficace, et c'est ce que nous allons voir dans la section suivante. Nous allons donc pouvoir répondre à la nouvelle question : **avec une stratégie améliorée, pouvons-nous augmenter les probabilités à un résultat proche de celui trouvé pour le mode TV GAME ?** (et parallèlement, justifier pourquoi nous avons effectué une simulation s'il était possible de calculer mathématiquement le résultat...)  "
   ]
  },
  {
   "cell_type": "markdown",
   "id": "2d0a2f93",
   "metadata": {},
   "source": [
    "<h2><font color='#ff0000'><b>DEUXIÈME MODE : HIGH LOW - MODÈLE AMÉLIORÉ (ET PLUS PROCHE DE LA SITUATION RÉELLE)</b></font></h2>"
   ]
  },
  {
   "cell_type": "markdown",
   "id": "99d1a1fa-b017-4762-97ec-d61bf0ea6abb",
   "metadata": {},
   "source": [
    "<h3><font color='#4bba13'><b>DESCRIPTION DE LA SITUATION RÉELLE : COMMENT LE JOUEUR PROCÈDE EN RÉALITÉ</b></font></h3>"
   ]
  },
  {
   "cell_type": "markdown",
   "id": "c86eaf21-3078-4dad-82f7-1c9ba30d7333",
   "metadata": {},
   "source": [
    "Prenons le temps d'y réfléchir : si le joueur pioche la boîte à 1 000 000\\\\$, soit la somme la plus élevée du jeu... Quelle est la prédiction qu'il va faire ensuite ? Il va forcément choisir que la somme suivante est plus basse, et sa prédiction sera forcément juste ! Pareil pour la boîte à 1 cent : la prochaine somme sera forcément plus haute, et le joueur le sait.  \n",
    "Allons plus loin, imaginons que le joueur connaît l'échelle des gains par coeur et qu'il se souvient des sommes déjà sorties. Ou bien, plus probable, qu'il a une checklist des sommes sur un tableur : si toutes les sommes supérieures à, disons, 100 000\\\\$ sont sorties... Ce joueur-là augmente ses chances de réussite puisqu'il sait pertinemment que la somme suivante sera plus basse, les autres sommes au-dessus ayant été déjà ouvertes.  \n",
    "Allons encore et toujours plus loin : et si le joueur se fiait à une logique implacable, et s'il choisissait toujours la prédiction la plus probable ? En effet, à chaque tour, sauf cas très rares d'égalité parfaite, il y a très souvent un plus grand nombre de sommes au-dessus ou au-dessous de la somme de notre boîte actuelle, et donc une prédiction a plus de chances d'être correcte.  \n",
    "\n",
    "La faible réussite venait de là : notre algorithme était peu performant puisqu'il se basait sur une hypothèse fausse, celle stipulant que **les prédictions sont indépendantes des résultats précédents : ce n'est en réalité pas le cas.**  \n",
    "Cette nouvelle stratégie semble d'ailleurs être la meilleure à adopter pour maximiser nos chances de réussite, puisqu'il s'agit de notre seule alternative à des choix faits par hasard. C'est donc avec la stratégie suivante que nous allons faire notre simulation et établir le nombre nécessaire de parties pour espérer ouvrir toutes les boîtes :  \n",
    "**Toujours choisir la prédiction la plus probable, c'est-à-dire qui a le plus de chances d'arriver, en se basant sur les précédentes ouvertures de boîtes.**  \n",
    "\n",
    "Les probabilités vont augmenter par rapport à notre précédente simulation, bien évidemment, mais deux observations sont également possibles :\n",
    "- Soit **les probabilités n'augmenteront pas assez**, ce qui signifiera bien que **le succès a une récompense trop faible par rapport à sa difficulté.**\n",
    "- Soit **les probabilités augmenteront suffisamment** pour se rapprocher de la probabilité de réussite pour le mode TV GAME, ce qui signifiera que le succès a une récompense juste. En effet, le site préconise que si le joueur a, à sa portée, une stratégie plus rentable pour lui (à savoir, ici, garder trace de tous les résultats précédents pendant sa partie), et qu'il ne l'utilise pas par méconnaissance ou autre, c'est la faute du joueur et non du succès. En d'autres termes, il peut très bien rendre involontairement ou non le succès plus difficile pour lui qu'il ne doit l'être, mais cela ne doit pas impliquer que la récompense du succès doit être augmentée, car l'origine de son échec éventuel ne sera pas à cause d'un manque d'équité de la part du succès développé : **il n'y aurait aucun problème de conformité.**"
   ]
  },
  {
   "cell_type": "markdown",
   "id": "7cb97af6-5c47-4d38-b6c3-f43420c4da08",
   "metadata": {},
   "source": [
    "*Maintenant que nous savons la démarche à suivre, quelques apartés avant de passer à la simulation et les résultats :*  \n",
    "- *J'espère que vous êtes convaincus que la modélisation mathématique d'une telle situation est plutôt complexe. Pas impossible, mais pas suffisamment intuitive pour présenter une démonstration mathématique accessible à n'importe quel lecteur. C'est donc l'occasion de faire des simulations, et pour les plus férus de mathématiques, de se convaincre qu'une simulation se rapproche toujours du résultat théorique mathématique !*\n",
    "- *L'utilité de la simulation précédente est triple : premièrement, il s'agissait déjà d'un \"proof of concept\" de compétences (créer un dataframe, le manipuler, établir une simulation, visualiser des résultats d'une clareté suffisante pour être à la portée d'une très large audience). Deuxièmement, d'une mise en bouche permettant de cerner et digérer sans aucune difficulté la simulation suivante puisque la précédente introduisait beaucoup d'éléments tout en étant très simple à comprendre. Cela a été une sorte de marche intermédiaire. Troisièmement, il sera possible de comparer les résultats et l'efficacité de notre nouvelle simulation, pour se rassurer qu'elle est bien améliorée.*"
   ]
  },
  {
   "cell_type": "markdown",
   "id": "198f2b93-15fe-495a-9137-499a32274c30",
   "metadata": {},
   "source": [
    "<h3><font color='#4bba13'><b>AMÉLIORATION DU CHOIX DE LA PRÉDICTION</b></font></h3>"
   ]
  },
  {
   "cell_type": "markdown",
   "id": "bec42676-df02-4cd2-81db-401761433d82",
   "metadata": {},
   "source": [
    "C'est parti ! Construisons et codons notre démarche pour sélectionner notre prédiction, en n'utilisant plus la fonction `random()`."
   ]
  },
  {
   "cell_type": "code",
   "execution_count": 578,
   "id": "3edf880f",
   "metadata": {},
   "outputs": [
    {
     "name": "stdout",
     "output_type": "stream",
     "text": [
      "Pour commencer, je choisis la boîte 7\n",
      "Celle-ci contient 25.0 $\n"
     ]
    },
    {
     "data": {
      "text/plain": [
       "Index([ 1,  2,  3,  4,  5,  6,  8,  9, 10, 11, 12, 13, 14, 15, 16, 17, 18, 19,\n",
       "       20, 21, 22, 23, 24, 25, 26],\n",
       "      dtype='int64', name='Boîte')"
      ]
     },
     "execution_count": 578,
     "metadata": {},
     "output_type": "execute_result"
    }
   ],
   "source": [
    "# Nous créons notre partie vierge sans changement\n",
    "liste_boite = []\n",
    "for i in range (1,27):\n",
    "    liste_boite.append(i)\n",
    "liste_somme = [0.01,1,5,10,25,50,75,100,200,300,400,500,750,1000,5000,10000,25000,50000,75000,100000,200000,300000,400000,500000,750000,1000000]\n",
    "rd.shuffle(liste_somme)\n",
    "nouveau_jeu = pd.DataFrame(liste_somme, index=liste_boite , columns=['Somme contenue dans la boîte'])\n",
    "nouveau_jeu.index.name = 'Boîte'\n",
    "\n",
    "# Nous choisissons notre première boîte, celle-ci toujours au hasard car il n'y a pas de meilleure façon de procéder\n",
    "liste_choix = nouveau_jeu.index\n",
    "choix_boite = rd.choices(liste_choix, k=1)\n",
    "choix_boite = int(choix_boite[0])\n",
    "print(\"Pour commencer, je choisis la boîte\",choix_boite)\n",
    "\n",
    "# Nous découvrons la somme contenue à l'intérieur\n",
    "somme1 = nouveau_jeu.loc[choix_boite]\n",
    "somme1 = float(somme1.iloc[0])\n",
    "print(\"Celle-ci contient\",somme1,\"$\")\n",
    "\n",
    "# Et nous mettons à jour notre liste de boîtes encore en jeu\n",
    "liste_choix = liste_choix.drop(choix_boite)\n",
    "liste_choix"
   ]
  },
  {
   "cell_type": "code",
   "execution_count": 580,
   "id": "208fefef",
   "metadata": {},
   "outputs": [
    {
     "data": {
      "text/plain": [
       "[0.01,\n",
       " 1.0,\n",
       " 5.0,\n",
       " 10.0,\n",
       " 50.0,\n",
       " 75.0,\n",
       " 100.0,\n",
       " 200.0,\n",
       " 300.0,\n",
       " 400.0,\n",
       " 500.0,\n",
       " 750.0,\n",
       " 1000.0,\n",
       " 5000.0,\n",
       " 10000.0,\n",
       " 25000.0,\n",
       " 50000.0,\n",
       " 75000.0,\n",
       " 100000.0,\n",
       " 200000.0,\n",
       " 300000.0,\n",
       " 400000.0,\n",
       " 500000.0,\n",
       " 750000.0,\n",
       " 1000000.0]"
      ]
     },
     "execution_count": 580,
     "metadata": {},
     "output_type": "execute_result"
    }
   ],
   "source": [
    "# Puisque nos prédictions vont être basées sur celle-ci, nous mettons aussi à jour à chaque ouverture de boîte l'échelle des gains\n",
    "# Cela nous permettra de connaître les sommes restantes et de choisir en conséquence\n",
    "doc_somme_restante = nouveau_jeu['Somme contenue dans la boîte'].drop(choix_boite)\n",
    "list_somme_restante = doc_somme_restante.tolist()\n",
    "list_somme_restante.sort()\n",
    "list_somme_restante"
   ]
  },
  {
   "cell_type": "code",
   "execution_count": 596,
   "id": "bbac1ec7",
   "metadata": {},
   "outputs": [
    {
     "name": "stdout",
     "output_type": "stream",
     "text": [
      "Nombre de sommes au-dessus : 21\n",
      "Nombre de sommes au-dessous : 4\n",
      "Total : 25 - C'est tout bon\n"
     ]
    }
   ],
   "source": [
    "# Nous divisons en deux groupes la liste des sommes restantes\n",
    "# Cela permettra de choisir la prédiction correspondant au groupe le plus important\n",
    "au_dessus = sum(1 for value in list_somme_restante if value > somme1)\n",
    "en_dessous = sum(1 for value in list_somme_restante if value < somme1)\n",
    "print(\"Nombre de sommes au-dessus :\", au_dessus)\n",
    "print(\"Nombre de sommes au-dessous :\", en_dessous)\n",
    "# Vérifions bien que les deux groupes s'additionnent pour former la liste des sommes restantes\n",
    "if au_dessus+en_dessous == len(list_somme_restante):\n",
    "    print(\"Total :\", au_dessus+en_dessous, \"- C'est tout bon\")"
   ]
  },
  {
   "cell_type": "code",
   "execution_count": 604,
   "id": "0ca601da-9a4b-4dcc-af4d-e0c1dc7a38e6",
   "metadata": {},
   "outputs": [
    {
     "name": "stdout",
     "output_type": "stream",
     "text": [
      "Je pense que la prochaine somme sera plus haute\n"
     ]
    }
   ],
   "source": [
    "# Et pour finir, notre prédiction sera cette fois-ci choisie de la façon suivante :\n",
    "if au_dessus > en_dessous:\n",
    "    choix_prediction = \"plus haute\"\n",
    "else:\n",
    "    choix_prediction = \"plus basse\"\n",
    "print(\"Je pense que la prochaine somme sera\",choix_prediction)"
   ]
  },
  {
   "cell_type": "markdown",
   "id": "87c1e918-64be-48be-8d7d-b3f6b115ad59",
   "metadata": {},
   "source": [
    "Il est à noter qu'il peut y avoir des cas où les deux groupes sont égaux. Cela est très rare, et peut se démontrer, mais nous ne le ferons pas ici par soucis de longueur. Nous comptons sur l'intuition du lecteur pour le sentir.  \n",
    "Dans un tel cas, vu que les probabilités des deux prédictions sont égales, il n'y a pas d'autre choix que de d'en sélectionner une au hasard. Ici, plutôt que d'alourdir le code pour rajouter une nouvelle condition `if` avec la fonction `random()`, j'ai décidé arbitrairement que le choix serait toujours la prédiction \"plus basse\" (due à la comparaison strictement supérieur \">\" pour la condition de ma fonction `if`). Cette décision ou une autre n'influera pas les résultats."
   ]
  },
  {
   "cell_type": "markdown",
   "id": "14a10211",
   "metadata": {},
   "source": [
    "<b><h3><font color='#4bba13'><b>DEUXIÈME MODÈLE : ALGORITHME AVEC PRÉDICTION AMÉLIORÉE POUR SIMULER UNE PARTIE COMPLÈTE</b></font></h3></b>"
   ]
  },
  {
   "cell_type": "markdown",
   "id": "41e6601a-7c2e-4a36-a546-67315863c352",
   "metadata": {},
   "source": [
    "Imbriquons tout ça pour simuler une partie !"
   ]
  },
  {
   "cell_type": "code",
   "execution_count": 643,
   "id": "da65aa45",
   "metadata": {},
   "outputs": [
    {
     "name": "stdout",
     "output_type": "stream",
     "text": [
      "Pour commencer, je choisis la boîte 5\n",
      "Celle-ci contient 10000.0 $\n",
      "Je pense que la prochaine somme sera plus basse\n",
      "Je choisis la boîte 3\n",
      "Celle-ci contient 0.01 $\n",
      "Et c'est 1 réussite(s) !\n",
      "Je pense que la prochaine somme sera plus haute\n",
      "Je choisis la boîte 20\n",
      "Celle-ci contient 100.0 $\n",
      "Et c'est 2 réussite(s) !\n",
      "Je pense que la prochaine somme sera plus haute\n",
      "Je choisis la boîte 1\n",
      "Celle-ci contient 1000000.0 $\n",
      "Et c'est 3 réussite(s) !\n",
      "Je pense que la prochaine somme sera plus basse\n",
      "Je choisis la boîte 18\n",
      "Celle-ci contient 750000.0 $\n",
      "Et c'est 4 réussite(s) !\n",
      "Je pense que la prochaine somme sera plus basse\n",
      "Je choisis la boîte 13\n",
      "Celle-ci contient 5000.0 $\n",
      "Et c'est 5 réussite(s) !\n",
      "Je pense que la prochaine somme sera plus basse\n",
      "Je choisis la boîte 6\n",
      "Celle-ci contient 100000.0 $\n",
      "Perdu ! mon nombre de reussite est : 5\n",
      "La dernière boîte avait 5000.0 $, or la boîte choisie est la 6 , qui contenait 100000.0 $, et je pensais que la valeur serait plus basse .\n"
     ]
    }
   ],
   "source": [
    "# Création partie vierge\n",
    "liste_boite = []\n",
    "for i in range (1,27):\n",
    "    liste_boite.append(i)\n",
    "liste_somme = [0.01,1,5,10,25,50,75,100,200,300,400,500,750,1000,5000,10000,25000,50000,75000,100000,200000,300000,400000,500000,750000,1000000]\n",
    "rd.shuffle(liste_somme)\n",
    "nouveau_jeu = pd.DataFrame(liste_somme, index=liste_boite , columns=['Somme contenue dans la boîte'])\n",
    "nouveau_jeu.index.name = 'Boîte'\n",
    "\n",
    "# Choix de la première boîte\n",
    "liste_choix = nouveau_jeu.index\n",
    "choix_boite = rd.choices(liste_choix, k=1)\n",
    "choix_boite = int(choix_boite[0])\n",
    "liste_choix = liste_choix.drop(choix_boite)\n",
    "print(\"Pour commencer, je choisis la boîte\",choix_boite)\n",
    "\n",
    "# Somme contenue dans la boîte\n",
    "somme1 = nouveau_jeu.loc[choix_boite]\n",
    "somme1 = float(somme1.iloc[0])\n",
    "print(\"Celle-ci contient\",somme1,\"$\")\n",
    "\n",
    "# Liste des sommes restantes\n",
    "doc_somme_restante = nouveau_jeu['Somme contenue dans la boîte'].drop(choix_boite)\n",
    "list_somme_restante = doc_somme_restante.tolist()\n",
    "list_somme_restante.sort()\n",
    "\n",
    "# Initialisation des variables représentant le nombre de prédictions justes et s'il faut continuer ou arrêter le jeu\n",
    "reussite = 0\n",
    "continuer = \"oui\"\n",
    "\n",
    "# Si la prédiction est fausse, le jeu s'arrête, ce qui est matérialisé ici par la sortie de la boucle \"while\" et donc la fin de la simulation\n",
    "while continuer == \"oui\":\n",
    "    # Notre nouveau choix de prédiction\n",
    "    au_dessus = sum(1 for value in list_somme_restante if value > somme1)\n",
    "    en_dessous = sum(1 for value in list_somme_restante if value < somme1)\n",
    "    if au_dessus > en_dessous:\n",
    "        choix_prediction = \"plus haute\"\n",
    "    else:\n",
    "        choix_prediction = \"plus basse\"\n",
    "    print(\"Je pense que la prochaine somme sera\",choix_prediction)\n",
    "    # Choix de la prochaine boîte\n",
    "    choix_boite = rd.choices(liste_choix, k=1)\n",
    "    choix_boite = int(choix_boite[0])\n",
    "    print(\"Je choisis la boîte\",choix_boite)\n",
    "    # Récupération de son contenu\n",
    "    liste_choix = liste_choix.drop(choix_boite)\n",
    "    somme2 = nouveau_jeu.loc[choix_boite]\n",
    "    somme2 = float(somme2.iloc[0])\n",
    "    print(\"Celle-ci contient\",somme2,\"$\")\n",
    "    # Mise à jour de la liste des sommes restantes\n",
    "    doc_somme_restante = doc_somme_restante.drop(choix_boite)\n",
    "    list_somme_restante = doc_somme_restante.tolist()\n",
    "    list_somme_restante.sort()\n",
    "\n",
    "    # Et nous vérifions la véracité de notre prédiction de manière strictement identique à la simulation précédente\n",
    "    if somme2 > somme1:\n",
    "        if choix_prediction == \"plus haute\":\n",
    "            reussite += 1\n",
    "            print(\"Et c'est\",reussite,\"réussite(s) !\")\n",
    "            somme1 = somme2\n",
    "        if choix_prediction == \"plus basse\":\n",
    "            continuer = \"non\"\n",
    "            print(\"Perdu ! mon nombre de reussite est :\",reussite)\n",
    "            print(\"La dernière boîte avait\",somme1,\"$, or la boîte choisie est la\",choix_boite,\", qui contenait\",somme2,\"$, et je pensais que la valeur serait\", choix_prediction,\".\")\n",
    "    if somme2 < somme1:\n",
    "        if choix_prediction == \"plus basse\":\n",
    "            reussite += 1\n",
    "            print(\"Et c'est\",reussite,\"réussite(s) !\")\n",
    "            somme1 = somme2\n",
    "        if choix_prediction == \"plus haute\":\n",
    "            continuer = \"non\"\n",
    "            print(\"Perdu ! mon nombre de reussite est :\",reussite)\n",
    "            print(\"La dernière boîte avait\",somme1,\"$, or la boîte choisie est la\",choix_boite,\", qui contenait\",somme2,\"$, et je pensais que la valeur serait\", choix_prediction,\".\")\n",
    "    if reussite == 25:\n",
    "        continuer = \"non\"\n",
    "        print(\"Vous avez ouvert toutes les boîtes ! Bravo !\")"
   ]
  },
  {
   "cell_type": "markdown",
   "id": "aaf02e87-6ea1-4375-b1c1-0fd745eb5342",
   "metadata": {},
   "source": [
    "Alors ? Quel est votre record ? C'est gagné ? Visualisons le nombre de réussites pour chaque partie, et voyons combien de fois on obtient l'ouverture de 25 boîtes cette fois-ci..."
   ]
  },
  {
   "cell_type": "markdown",
   "id": "3d8983d8",
   "metadata": {},
   "source": [
    "<h3><font color='#4bba13'><b>VISUALISATION DU NOMBRE D'ESSAIS DU DEUXIÈME MODÈLE</b></font></h3>"
   ]
  },
  {
   "cell_type": "code",
   "execution_count": 698,
   "id": "6bb3678a-d2f0-46fd-bd6c-ba59eef3d9f6",
   "metadata": {},
   "outputs": [
    {
     "name": "stdout",
     "output_type": "stream",
     "text": [
      "[5, 8, 1, 1, 12, 4, 5, 0, 3, 0, 0, 0, 1, 1, 0, 14, 2, 2, 1, 0, 0, 3, 3, 4, 0, 5, 7, 9, 1, 1, 2, 0, 0, 2, 1, 6, 1, 12, 7, 10, 2, 0, 0, 2, 0, 0, 1, 0, 4, 1, 3, 1, 2, 3, 0, 2, 1, 2, 3, 6, 5, 15, 2, 4, 0, 1, 0, 0, 0, 4, 3, 4, 3, 0, 3, 10, 2, 3, 1, 0, 13, 1, 4, 5, 1, 7, 2, 5, 2, 0, 2, 1, 2, 0, 2, 0, 0, 8, 1, 2, 5, 0, 0, 4, 3, 4, 1, 2, 2, 1, 1, 0, 3, 0, 2, 0, 2, 0, 1, 1, 10, 10, 2, 0, 11, 6, 5, 7, 1, 1, 1, 0, 11, 2, 7, 6, 12, 6, 5, 0, 0, 1, 0, 0, 6, 0, 4, 1, 5, 3, 7, 0, 4, 1, 7, 2, 0, 0, 2, 1, 6, 1, 2, 1, 18, 7, 4, 0, 5, 4, 0, 3, 4, 6, 2, 5, 3, 0, 3, 5, 1, 12, 9, 1, 1, 9, 8, 1, 1, 1, 2, 0, 0, 4, 13, 0, 0, 0, 0, 7, 3, 1, 1, 0, 0, 1, 11, 9, 4, 1, 7, 2, 5, 10, 2, 3, 1, 2, 5, 0, 2, 4, 8, 7, 4, 0, 6, 1, 2, 10, 9, 4, 1, 1, 1, 7, 1, 0, 0, 2, 2, 2, 3, 1, 1, 1, 2, 0, 0, 1, 0, 16, 1, 3, 0, 0, 2, 2, 3, 4, 1, 11, 0, 1, 2, 9, 1, 3, 3, 0, 5, 0, 10, 5, 5, 0, 2, 1, 0, 4, 2, 4, 8, 14, 0, 4, 0, 2, 5, 4, 1, 1, 2, 4, 0, 4, 6, 1, 14, 7, 9, 0, 0, 3, 2, 0, 1, 1, 2, 0, 0, 2, 1, 0, 1, 6, 3, 6, 3, 7, 4, 11, 9, 3, 4, 1, 3, 3, 6, 4, 1, 5, 2, 8, 11, 0, 2, 1, 2, 1, 3, 2, 2, 0, 3, 6, 1, 1, 0, 1, 1, 2, 6, 5, 7, 3, 3, 0, 6, 3, 1, 1, 0, 0, 0, 0, 3, 12, 1, 0, 1, 2, 1, 1, 3, 9, 3, 1, 25, 10, 0, 1, 2, 2, 2, 1, 4, 2, 0, 4, 0, 2, 3, 1, 0, 0, 0, 0, 2, 5, 2, 1, 3, 1, 8, 0, 2, 3, 0, 2, 1, 0, 1, 1, 1, 1, 5, 8, 3, 3, 1, 2, 15, 1, 2, 0, 3, 1, 4, 7, 4, 0, 0, 1, 6, 13, 3, 5, 0, 2, 4, 1, 3, 0, 2, 2, 3, 7, 0, 4, 0, 5, 6, 2, 0, 0, 0, 1, 4, 0, 7, 8, 1, 2, 5, 0, 2, 2, 2, 6, 1, 3, 4, 3, 2, 1, 2, 0, 0, 1, 1, 0, 1, 0, 4, 2, 18, 2, 0, 2, 10, 15, 4, 0, 5, 6, 7, 1, 0, 0, 6, 0, 0, 1, 6, 10, 1, 3, 6, 0, 0, 3, 4, 3, 1, 2, 10, 0, 1, 0, 1, 4, 0, 9, 6, 1, 7, 2, 4, 1, 0, 1, 9, 17, 2, 4, 4, 4, 0, 0, 1, 1, 4, 7, 8, 1, 3, 1, 0, 1, 0, 6, 3, 3, 3, 2, 2, 0, 0, 2, 0, 0, 2, 1, 7, 2, 5, 1, 0, 4, 4, 5, 2, 5, 3, 0, 0, 0, 3, 9, 7, 0, 1, 4, 1, 0, 7, 3, 1, 4, 7, 0, 18, 5, 3, 0, 6, 6, 2, 1, 1, 1, 2, 5, 10, 8, 0, 1, 0, 5, 1, 2, 1, 1, 0, 0, 8, 2, 1, 1, 2, 0, 1, 6, 5, 4, 0, 7, 9, 4, 0, 0, 4, 0, 0, 1, 2, 6, 5, 11, 11, 1, 7, 7, 0, 0, 0, 4, 0, 6, 8, 17, 9, 1, 2, 3, 4, 1, 2, 5, 1, 1, 2, 2, 11, 0, 0, 7, 9, 6, 7, 0, 2, 10, 1, 1, 1, 2, 11, 0, 0, 1, 1, 0, 1, 0, 1, 0, 1, 1, 8, 6, 3, 0, 2, 2, 0, 2, 0, 3, 2, 3, 8, 3, 3, 1, 1, 1, 1, 2, 7, 3, 1, 2, 1, 0, 2, 1, 3, 1, 1, 8, 2, 2, 3, 0, 0, 0, 0, 0, 12, 1, 1, 8, 1, 1, 6, 2, 2, 6, 2, 1, 0, 4, 12, 3, 1, 1, 0, 0, 0, 1, 2, 3, 1, 1, 1, 1, 3, 1, 0, 2, 2, 7, 2, 4, 10, 1, 1, 0, 2, 4, 3, 8, 3, 4, 2, 3, 1, 3, 1, 4, 4, 0, 1, 5, 2, 1, 15, 2, 2, 5, 0, 2, 9, 5, 2, 0, 0, 0, 0, 1, 1, 1, 3, 3, 2, 4, 3, 2, 2, 0, 8, 0, 8, 0, 1, 2, 0, 0, 0, 0, 3, 1, 1, 4, 2, 4, 1, 1, 1, 0, 10, 2, 1, 2, 1, 2, 11, 4, 5, 3, 0, 0, 1, 2, 1, 3, 0, 2, 10, 0, 8, 4, 4, 4, 2, 1, 6, 4, 6, 2, 4, 6, 1, 9, 0, 3, 5, 3, 5, 1, 5, 7, 1, 3, 1, 1, 4, 0, 2, 2, 0, 6, 14, 6, 0, 1, 10, 0, 1, 3, 2, 1, 2, 7, 14, 0, 0, 2, 0, 1, 0, 1, 0, 1, 0, 2, 2, 0, 2, 3, 0, 3, 2, 4, 0, 2, 1, 3, 6, 8, 1, 0, 0, 0, 3, 4, 0, 0, 1, 0, 1, 4, 1, 3, 3, 3, 2, 1, 8, 1, 2, 1, 3, 6, 1, 0, 0, 3, 3, 2, 3, 4, 2, 5, 6, 0, 0, 0, 0, 12, 4, 0, 9, 4, 0, 2, 0, 2, 1, 5, 1, 8, 4, 3, 1, 4, 3, 2, 3, 1, 1, 2, 2, 0, 0, 0, 0, 1, 4, 0, 0, 5, 3, 1, 2, 1, 1, 10, 1, 0, 1, 8, 7, 1, 2, 1, 3, 6, 1, 1, 8, 0, 1, 3, 0, 2, 5, 5, 4, 1, 6, 1, 0, 1, 2, 3, 1, 1, 4, 4, 8, 0, 1, 0, 0, 2, 1, 0, 0, 0, 1, 1, 5, 3, 2, 6, 0, 3, 1, 6, 2, 3, 0, 1, 1, 11, 11, 1, 1, 2, 1, 4, 8, 1, 1, 9, 3, 2, 0, 3, 2, 1, 2, 1, 5, 2, 1, 7, 2, 0, 11, 0, 2, 0, 7, 1, 2, 3, 6, 1, 6, 2, 4, 2, 0, 1, 4, 3, 7, 0, 1, 1, 0, 0, 5, 2, 0, 0, 4, 10, 13, 13, 2, 1, 5, 1, 20, 1, 3, 6, 5, 0, 0, 4, 3, 4, 3, 0, 7, 2, 4, 0, 2, 4, 0, 0, 0, 5, 4, 8, 1, 3, 3, 0, 1, 1, 7, 1, 0, 5, 0, 1, 0, 4, 0, 4, 4, 4, 3, 0, 1, 3, 4, 1, 1, 5, 0, 1, 0, 9, 18, 2, 1, 2, 9, 1, 2, 14, 7, 6, 2, 4, 0, 4, 3, 7, 4, 3, 4, 0, 3, 1, 13, 4, 0, 3, 1, 0, 3, 0, 2, 0, 1, 2, 8, 0, 0, 0, 7, 4, 14, 1, 11, 5, 3, 0, 4, 6, 9, 3, 0, 4, 5, 9, 3, 5, 0, 0, 1, 1, 6, 2, 1, 0, 2, 2, 0, 4, 2, 0, 2, 3, 1, 1, 3, 1, 0, 2, 0, 8, 3, 0, 1, 3, 9, 0, 0, 2, 2, 2, 11, 1, 3, 1, 1, 1, 6, 1, 0, 3, 3, 2, 2, 1, 0, 14, 5, 0, 1, 1, 2, 0, 0, 2, 2, 6, 4, 5, 4, 1, 3, 4, 2, 6, 1, 1, 1, 4, 1, 0, 9, 2, 2, 4, 0, 11, 0, 4, 13, 0, 4, 4, 0, 0, 3, 2, 0, 0, 0, 1, 0, 2, 9, 7, 0, 5, 2, 1, 7, 1, 0, 0, 2, 1, 1, 4, 3, 12, 6, 4, 2, 4, 1, 0, 0, 0, 6, 18, 1, 1, 0, 1, 0, 17, 6, 0, 1, 0, 1, 0, 2, 11, 1, 0, 3, 1, 15, 0, 1, 2, 6, 1, 1, 4, 3, 6, 0, 0, 0, 0, 0, 5, 1, 1, 8, 0, 8, 0, 6, 1, 2, 0, 0, 2, 0, 11, 0, 9, 0, 0, 3, 1, 4, 1, 1, 1, 3, 0, 8, 0, 2, 5, 0, 0, 5, 0, 5, 0, 2, 2, 0, 0, 0, 8, 2, 8, 6, 1, 16, 0, 1, 0, 10, 0, 5, 0, 9, 0, 1, 0, 2, 2, 3, 6, 1, 1, 0, 3, 2, 1, 9, 8, 6, 2, 2, 2, 1, 0, 0, 9, 1, 1, 2, 0, 3, 10, 1, 2, 2, 1, 1, 1, 1, 6, 0, 0, 1, 0, 0, 1, 9, 3, 0, 1, 1, 2, 0, 0, 2, 0, 6, 7, 2, 0, 3, 0, 0, 5, 3, 1, 1, 4, 3, 5, 4, 1, 1, 2, 6, 0, 1, 1, 2, 0, 1, 5, 2, 2, 0, 3, 0, 0, 6, 4, 5, 7, 2, 1, 1, 0, 1, 9, 11, 0, 1, 3, 3, 0, 2, 2, 0, 3, 0, 1, 2, 3, 23, 0, 0, 4, 4, 0, 2, 1, 6, 0, 6, 2, 1, 7, 2, 1, 1, 1, 2, 1, 2, 4, 0, 2, 3, 2, 0, 4, 4, 3, 4, 0, 6, 5, 4, 6, 2, 1, 0, 2, 1, 2, 0, 1, 1, 0, 3, 0, 4, 10, 3, 0, 4, 1, 5, 11, 0, 7, 3, 0, 1, 2, 7, 5, 1, 1, 4, 2, 1, 2, 1, 0, 1, 1, 2, 0, 1, 1, 0, 14, 0, 2, 2, 0, 0, 20, 9, 1, 14, 3, 4, 1, 4, 5, 3, 4, 3, 1, 4, 3, 7, 5, 0, 3, 0, 6, 6, 0, 0, 0, 0, 2, 0, 1, 3, 1, 7, 3, 0, 3, 0, 5, 0, 5, 0, 0, 4, 2, 5, 3, 0, 2, 0, 3, 2, 5, 4, 2, 2, 1, 1, 1, 1, 1, 1, 4, 2, 3, 1, 0, 1, 0, 8, 11, 2, 0, 4, 0, 2, 4, 2, 5, 9, 2, 2, 1, 0, 9, 0, 10, 0, 1, 0, 2, 2, 1, 2, 0, 0, 3, 4, 3, 3, 2, 0, 6, 9, 2, 1, 6, 1, 0, 17, 2, 7, 1, 1, 3, 1, 1, 2, 4, 5, 0, 6, 1, 0, 10, 3, 4, 9, 4, 21, 1, 5, 5, 0, 1, 1, 3, 2, 2, 5, 3, 2, 1, 2, 1, 7, 0, 3, 1, 2, 1, 4, 0, 1, 3, 8, 2, 4, 1, 0, 3, 0, 0, 0, 3, 0, 3, 5, 9, 6, 1, 0, 0, 3, 1, 2, 3, 0, 5, 2, 0, 0, 4, 0, 0, 1, 8, 0, 1, 4, 2, 5, 0, 1, 4, 6, 0, 1, 9, 0, 3, 0, 2, 22, 6, 6, 8, 0, 2, 0, 0, 1, 3, 1, 0, 2, 9, 13, 0, 2, 4, 5, 0, 1, 1, 1, 2, 6, 0, 3, 5, 2, 2, 4, 1, 6, 1, 2, 1, 0, 2, 1, 4, 0, 2, 2, 1, 5, 1, 9, 0, 4, 2, 1, 0, 1, 2, 0, 0, 2, 1, 0, 4, 4, 2, 4, 3, 3, 1, 2, 4, 1, 5, 2, 4, 4, 0, 3, 8, 6, 0, 4, 15, 3, 0, 0, 15, 0, 3, 5, 0, 1, 12, 3, 1, 1, 2, 3, 3, 0, 1, 1, 0, 1, 4, 1, 4, 2, 2, 1, 0, 1, 1, 0, 5, 1, 0, 12, 4, 8, 1, 0, 2, 1, 2, 4, 1, 1, 3, 4, 3, 8, 1, 0, 0, 1, 2, 0, 1, 0, 8, 3, 0, 0, 5, 4, 5, 1, 1, 0, 3, 1, 1, 2, 0, 1, 1, 1, 1, 2, 3, 0, 3, 5, 3, 3, 1, 2, 0, 0, 5, 0, 1, 2, 0, 1, 5, 2, 0, 0, 0, 4, 0, 1, 1, 3, 0, 17, 3, 0, 1, 2, 1, 3, 3, 5, 4, 0, 0, 3, 5, 0, 1, 7, 5, 9, 1, 0, 9, 2, 3, 2, 2, 1, 7, 0, 0, 8, 1, 0, 8, 1, 0, 3, 3, 0, 0, 8, 7, 4, 0, 2, 8, 1, 0, 0, 1, 9, 5, 0, 1, 0, 10, 7, 8, 0, 1, 1, 4, 1, 0, 2, 2, 0, 0, 0, 6, 2, 0, 0, 0, 3, 2, 8, 0, 2, 1, 5, 5, 5, 1, 2, 1, 1, 1, 3, 10, 2, 1, 0, 0, 3, 0, 4, 7, 0, 0, 3, 4, 5, 12, 0, 1, 4, 3, 4, 0, 4, 1, 11, 1, 7, 1, 4, 8, 7, 1, 4, 6, 0, 1, 3, 0, 6, 3, 6, 5, 3, 4, 13, 5, 0, 2, 9, 2, 1, 3, 7, 3, 6, 0, 6, 2, 3, 0, 2, 0, 3, 0, 0, 5, 0, 0, 2, 2, 1, 4, 1, 2, 0, 14, 0, 14, 4, 0, 6, 1, 15, 2, 0, 1, 0, 5, 2, 2, 18, 3, 9, 2, 0, 0, 0, 0, 3, 0, 1, 3, 5, 0, 1, 3, 2, 2, 7, 1, 2, 1, 16, 3, 0, 0, 2, 3, 1, 2, 2, 5, 1, 1, 3, 10, 4, 1, 4, 2, 2, 1, 0, 1, 12, 3, 4, 3, 12, 4, 18, 0, 5, 4, 2, 4, 1, 5, 1, 5, 1, 15, 0, 0, 16, 1, 1, 3, 0, 2, 10, 2, 1, 0, 0, 6, 4, 8, 6, 3, 6, 10, 2, 4, 14, 4, 1, 2, 0, 2, 0, 2, 2, 1, 0, 0, 2, 0, 1, 0, 2, 0, 1, 1, 0, 0, 1, 5, 8, 1, 6, 1, 0, 11, 0, 0, 10, 7, 0, 0, 1, 0, 0, 9, 7, 0, 4, 5, 0, 1, 1, 0, 0, 3, 2, 6, 0, 2, 5, 2, 2, 13, 6, 1, 4, 1, 1, 0, 3, 3, 3, 4, 2, 1, 4, 1, 3, 3, 1, 2, 0, 0, 5, 0, 1, 2, 4, 0, 2, 0, 4, 1, 1, 7, 4, 3, 3, 3, 7, 0, 10, 0, 3, 2, 5, 2, 1, 4, 0, 0, 6, 6, 10, 1, 1, 0, 6, 0, 2, 1, 5, 4, 7, 7, 1, 0, 0, 4, 4, 1, 4, 4, 1, 3, 0, 0, 15, 4, 13, 0, 0, 0, 1, 3, 3, 4, 7, 2, 9, 5, 8, 1, 1, 2, 4, 0, 3, 2, 1, 1, 3, 1, 0, 0, 0, 0, 18, 1, 0, 2, 0, 2, 1, 0, 5, 5, 0, 0, 3, 8, 7, 4, 0, 3, 2, 4, 4, 5, 0, 3, 3, 3, 1, 1, 1, 2, 0, 3, 7, 1, 0, 0, 4, 0, 1, 3, 5, 0, 1, 1, 5, 3, 2, 1, 2, 0, 1, 4, 0, 3, 1, 0, 1, 4, 0, 0, 0, 0, 1, 0, 0, 1, 3, 3, 1, 0, 1, 1, 2, 0, 1, 2, 1, 2, 6, 1, 2, 1, 2, 0, 10, 2, 2, 7, 4, 1, 0, 0, 0, 0, 3, 1, 1, 1, 3, 0, 4, 2, 1, 4, 0, 4, 4, 2, 1, 1, 0, 1, 0, 1, 25, 6, 3, 0, 3, 1, 2, 0, 0, 7, 3, 0, 1, 4, 4, 3, 0, 2, 3, 7, 4, 0, 2, 7, 2, 0, 0, 0, 2, 11, 0, 0, 5, 16, 1, 2, 0, 2, 0, 3, 1, 3, 1, 0, 9, 2, 3, 1, 3, 25, 1, 0, 1, 7, 7, 0, 6, 1, 6, 3, 10, 2, 9, 2, 0, 0, 1, 2, 4, 1, 0, 1, 0, 0, 3, 4, 6, 4, 3, 0, 0, 0, 2, 0, 5, 4, 15, 0, 4, 3, 0, 7, 1, 2, 0, 0, 1, 2, 4, 1, 2, 1, 3, 11, 3, 2, 0, 5, 1, 3, 0, 1, 5, 0, 4, 1, 1, 1, 0, 12, 12, 1, 1, 3, 2, 4, 2, 2, 3, 3, 10, 3, 2, 2, 3, 1, 1, 1, 8, 14, 2, 2, 0, 2, 1, 2, 5, 1, 2, 1, 2, 0, 2, 1, 2, 5, 2, 6, 1, 0, 2, 10, 6, 0, 1, 1, 8, 0, 2, 0, 6, 0, 1, 0, 2, 0, 1, 9, 0, 4, 5, 0, 1, 0, 1, 6, 0, 0, 4, 0, 6, 3, 5, 1, 0, 0, 5, 2, 11, 1, 1, 2, 4, 3, 4, 2, 0, 1, 2, 3, 0, 4, 17, 2, 2, 1, 2, 0, 4, 3, 0, 2, 0, 5, 4, 5, 7, 3, 1, 0, 1, 0, 1, 0, 12, 3, 4, 0, 1, 1, 2, 1, 2, 1, 3, 3, 0, 0, 3, 1, 0, 2, 2, 6, 4, 1, 8, 2, 0, 4, 5, 7, 1, 0, 0, 1, 0, 0, 1, 0, 0, 1, 3, 4, 5, 7, 2, 2, 0, 3, 0, 2, 15, 6, 4, 3, 0, 1, 3, 3, 7, 0, 2, 0, 1, 1, 5, 1, 0, 1, 5, 0, 1, 0, 0, 7, 9, 4, 8, 11, 2, 5, 0, 2, 0, 0, 3, 0, 16, 1, 4, 0, 2, 0, 4, 2, 0, 0, 1, 2, 3, 8, 2, 0, 4, 1, 4, 6, 2, 10, 1, 2, 3, 0, 0, 1, 4, 4, 1, 3, 0, 7, 0, 1, 1, 3, 5, 2, 0, 0, 2, 6, 1, 2, 4, 1, 3, 13, 5, 1, 1, 0, 3, 0, 0, 8, 12, 0, 0, 5, 1, 4, 5, 1, 0, 0, 0, 10, 2, 4, 3, 0, 0, 3, 5, 1, 9, 9, 2, 2, 0, 2, 1, 7, 0, 2, 2, 6, 0, 8, 2, 0, 6, 0, 1, 6, 2, 2, 0, 5, 1, 2, 1, 8, 3, 8, 5, 7, 11, 5, 3, 1, 5, 3, 0, 5, 2, 1, 20, 0, 6, 3, 2, 1, 0, 1, 1, 1, 1, 8, 7, 0, 1, 1, 6, 0, 0, 4, 1, 1, 0, 0, 1, 1, 0, 4, 2, 0, 6, 4, 8, 1, 5, 2, 1, 0, 0, 2, 0, 1, 17, 2, 0, 2, 3, 0, 0, 3, 2, 1, 1, 2, 5, 6, 8, 3, 5, 4, 1, 2, 0, 3, 0, 0, 2, 1, 0, 0, 10, 0, 2, 5, 2, 3, 6, 3, 2, 3, 1, 1, 10, 5, 0, 0, 2, 0, 2, 2, 0, 2, 1, 0, 2, 0, 1, 0, 2, 5, 1, 0, 3, 5, 0, 0, 2, 4, 1, 2, 7, 0, 1, 3, 1, 0, 2, 0, 5, 0, 1, 4, 9, 2, 1, 6, 0, 4, 0, 2, 7, 6, 9, 8, 4, 0, 3, 1, 3, 13, 1, 3, 0, 7, 1, 2, 4, 2, 0, 1, 1, 5, 0, 1, 3, 0, 7, 0, 5, 1, 8, 4, 7, 0, 4, 5, 14, 0, 0, 0, 4, 4, 4, 0, 5, 0, 10, 2, 8, 7, 3, 4, 4, 0, 3, 0, 5, 1, 0, 3, 1, 5, 0, 0, 3, 2, 5, 2, 5, 7, 0, 2, 0, 2, 3, 2, 6, 1, 0, 1, 6, 0, 1, 3, 16, 2, 8, 2, 1, 3, 1, 3, 5, 1, 1, 7, 2, 1, 2, 2, 1, 0, 6, 6, 5, 0, 2, 0, 0, 1, 2, 3, 2, 2, 1, 1, 3, 2, 0, 3, 1, 5, 12, 2, 3, 0, 6, 9, 4, 3, 0, 2, 4, 1, 5, 4, 3, 5, 0, 1, 3, 5, 1, 3, 0, 0, 18, 1, 4, 0, 2, 2, 8, 2, 0, 2, 0, 1, 1, 0, 1, 5, 8, 0, 8, 1, 0, 1, 0, 6, 8, 5, 1, 2, 7, 3, 2, 4, 4, 3, 8, 2, 0, 4, 3, 9, 2, 8, 8, 1, 0, 3, 7, 0, 2, 1, 3, 7, 0, 2, 0, 0, 0, 5, 9, 0, 0, 4, 2, 1, 1, 11, 0, 5, 1, 6, 0, 1, 2, 0, 6, 1, 3, 4, 1, 2, 5, 4, 1, 2, 4, 3, 10, 12, 1, 1, 1, 0, 1, 5, 2, 0, 4, 4, 2, 5, 1, 3, 7, 1, 0, 0, 1, 0, 6, 3, 1, 3, 6, 1, 3, 1, 8, 7, 9, 1, 1, 3, 1, 2, 10, 2, 2, 6, 3, 0, 2, 1, 0, 1, 2, 4, 1, 3, 1, 1, 3, 0, 0, 1, 2, 0, 4, 2, 3, 2, 5, 0, 5, 0, 13, 5, 1, 7, 1, 0, 6, 7, 7, 2, 1, 1, 1, 2, 0, 0, 1, 7, 1, 1, 2, 2, 3, 2, 0, 0, 3, 1, 3, 2, 6, 2, 4, 5, 0, 1, 1, 0, 5, 3, 1, 1, 5, 4, 1, 0, 2, 8, 4, 0, 3, 4, 2, 1, 0, 2, 3, 1, 0, 3, 2, 1, 0, 0, 0, 5, 0, 4, 2, 16, 3, 7, 0, 5, 7, 1, 2, 3, 3, 1, 2, 4, 5, 0, 6, 0, 9, 4, 4, 1, 0, 6, 2, 0, 1, 5, 2, 4, 2, 2, 2, 0, 0, 5, 0, 6, 0, 2, 0, 1, 1, 4, 4, 1, 7, 2, 1, 3, 0, 1, 2, 7, 9, 2, 1, 2, 0, 5, 0, 4, 2, 1, 3, 3, 1, 7, 0, 5, 0, 6, 1, 3, 3, 10, 0, 5, 9, 1, 7, 3, 3, 0, 5, 0, 0, 0, 4, 4, 2, 1, 0, 0, 2, 3, 1, 0, 2, 1, 0, 1, 5, 3, 8, 10, 1, 0, 7, 5, 6, 0, 5, 3, 3, 3, 2, 9, 1, 1, 0, 1, 0, 0, 5, 0, 4, 0, 1, 7, 2, 1, 4, 1, 0, 1, 0, 2, 3, 8, 2, 1, 2, 0, 0, 7, 1, 0, 3, 0, 8, 0, 4, 2, 4, 0, 4, 1, 5, 7, 6, 3, 0, 5, 3, 3, 5, 5, 0, 4, 1, 0, 4, 4, 0, 5, 15, 2, 4, 3, 2, 1, 3, 3, 3, 5, 1, 0, 3, 0, 0, 6, 4, 0, 7, 0, 0, 5, 0, 1, 0, 2, 0, 0, 0, 4, 0, 1, 1, 1, 4, 0, 4, 9, 3, 4, 2, 13, 1, 0, 2, 4, 3, 5, 0, 0, 1, 7, 9, 4, 0, 3, 1, 3, 5, 3, 1, 6, 2, 1, 4, 6, 2, 0, 2, 1, 5, 2, 1, 3, 4, 0, 1, 1, 2, 2, 4, 6, 1, 0, 0, 0, 1, 0, 7, 1, 4, 1, 5, 0, 0, 5, 0, 0, 2, 11, 6, 5, 6, 4, 1, 3, 4, 2, 0, 0, 1, 0, 2, 1, 8, 2, 3, 0, 2, 0, 0, 0, 0, 5, 2, 0, 2, 1, 2, 1, 0, 1, 1, 0, 3, 1, 4, 0, 8, 1, 2, 1, 5, 2, 4, 5, 1, 5, 3, 0, 2, 1, 1, 1, 0, 5, 9, 0, 4, 4, 5, 6, 0, 2, 2, 0, 10, 1, 0, 3, 5, 3, 5, 1, 3, 5, 0, 6, 8, 2, 3, 2, 2, 0, 3, 2, 2, 2, 1, 0, 0, 1, 5, 1, 1, 0, 2, 0, 11, 0, 1, 4, 9, 3, 1, 0, 9, 7, 2, 1, 3, 0, 1, 0, 4, 0, 4, 4, 5, 8, 0, 0, 0, 1, 4, 1, 1, 0, 3, 4, 1, 0, 0, 2, 0, 2, 2, 0, 0, 2, 2, 8, 6, 12, 1, 0, 6, 9, 2, 3, 11, 1, 2, 1, 2, 7, 2, 0, 1, 7, 5, 0, 0, 0, 17, 1, 8, 8, 0, 1, 0, 7, 5, 0, 1, 2, 1, 2, 6, 1, 2, 5, 0, 4, 1, 5, 0, 2, 3, 7, 9, 10, 4, 1, 4, 0, 1, 3, 2, 2, 4, 6, 3, 0, 1, 0, 0, 5, 0, 1, 3, 0, 0, 0, 14, 2, 1, 1, 0, 8, 0, 1, 3, 7, 0, 1, 6, 0, 0, 4, 0, 2, 5, 2, 6, 0, 10, 2, 0, 10, 2, 4, 6, 9, 2, 0, 5, 1, 2, 11, 4, 4, 1, 4, 0, 5, 1, 2, 7, 1, 8, 2, 1, 4, 2, 3, 0, 1, 1, 0, 0, 1, 3, 3, 0, 2, 3, 4, 0, 3, 1, 3, 2, 0, 2, 2, 5, 0, 1, 0, 0, 2, 0, 2, 1, 3, 7, 0, 4, 3, 1, 5, 12, 0, 2, 1, 1, 4, 1, 2, 2, 8, 0, 2, 1, 3, 0, 5, 9, 5, 7, 1, 3, 7, 3, 5, 1, 2, 13, 0, 4, 1, 4, 0, 7, 1, 0, 0, 1, 1, 7, 0, 0, 2, 8, 0, 3, 2, 1, 0, 1, 4, 0, 2, 2, 0, 0, 0, 0, 1, 0, 9, 1, 0, 2, 0, 1, 7, 2, 1, 0, 2, 1, 4, 1, 7, 6, 1, 3, 0, 8, 1, 3, 0, 3, 13, 3, 3, 3, 6, 3, 2, 2, 3, 0, 4, 0, 3, 4, 2, 7, 8, 0, 2, 0, 0, 3, 2, 7, 10, 3, 5, 0, 0, 4, 3, 4, 7, 0, 5, 7, 10, 6, 0, 3, 11, 19, 1, 0, 1, 3, 0, 1, 4, 0, 2, 3, 5, 0, 1, 3, 3, 0, 2, 1, 3, 5, 0, 3, 1, 2, 0, 6, 0, 1, 1, 2, 2, 0, 1, 1, 3, 6, 1, 8, 7, 1, 0, 3, 1, 0, 0, 1, 2, 0, 0, 0, 1, 3, 1, 9, 1, 2, 4, 8, 1, 2, 3, 0, 1, 0, 1, 6, 3, 7, 2, 3, 2, 3, 0, 0, 4, 5, 1, 0, 13, 1, 3, 10, 0, 0, 13, 8, 0, 2, 7, 1, 1, 2, 1, 0, 0, 5, 4, 6, 5, 2, 4, 10, 6, 2, 0, 3, 2, 3, 0, 5, 0, 1, 2, 2, 1, 4, 0, 1, 8, 1, 6, 0, 0, 3, 2, 2, 3, 3, 4, 1, 8, 3, 11, 0, 2, 3, 0, 3, 1, 0, 4, 2, 1, 0, 2, 3, 2, 0, 2, 0, 3, 8, 0, 1, 1, 8, 0, 5, 0, 1, 7, 6, 1, 3, 7, 5, 0, 0, 1, 3, 0, 2, 2, 0, 5, 2, 1, 1, 1, 3, 0, 2, 1, 2, 3, 0, 1, 1, 2, 11, 5, 2, 4, 5, 5, 7, 8, 6, 0, 3, 1, 7, 0, 0, 5, 8, 0, 3, 0, 7, 0, 1, 0, 2, 2, 2, 5, 2, 2, 1, 0, 2, 6, 3, 0, 1, 3, 3, 3, 1, 2, 1, 4, 1, 9, 0, 6, 0, 5, 2, 4, 4, 4, 0, 4, 5, 4, 2, 4, 3, 0, 3, 1, 1, 1, 0, 15, 0, 7, 0, 0, 4, 0, 0, 7, 2, 4, 1, 0, 1, 0, 0, 1, 0, 9, 2, 6, 5, 1, 2, 1, 6, 2, 1, 4, 6, 3, 0, 1, 1, 5, 1, 3, 2, 1, 1, 0, 0, 3, 0, 6, 0, 12, 5, 3, 0, 1, 4, 1, 3, 1, 9, 1, 1, 2, 6, 4, 0, 5, 17, 7, 5, 0, 3, 6, 1, 7, 6, 23, 2, 4, 3, 1, 7, 0, 0, 3, 3, 2, 0, 1, 16, 1, 11, 0, 4, 1, 7, 5, 3, 3, 1, 2, 0, 3, 0, 2, 4, 0, 2, 7, 1, 3, 1, 1, 4, 0, 0, 2, 8, 0, 9, 5, 2, 1, 0, 9, 0, 16, 0, 1, 1, 2, 0, 4, 3, 2, 2, 1, 5, 1, 9, 1, 0, 0, 1, 2, 2, 2, 5, 0, 4, 0, 3, 1, 2, 5, 1, 0, 0, 4, 5, 4, 25, 2, 0, 12, 3, 4, 5, 5, 3, 14, 1, 3, 2, 0, 8, 2, 3, 1, 3, 0, 1, 2, 3, 5, 1, 9, 15, 2, 1, 2, 7, 1, 7, 1, 0, 2, 3, 8, 25, 4, 2, 5, 2, 0, 2, 0, 6, 0, 1, 1, 0, 3, 1, 0, 7, 3, 0, 2, 3, 2, 7, 1, 2, 2, 3, 1, 3, 1, 3, 2, 3, 1, 5, 1, 3, 0, 1, 0, 3, 0, 16, 3, 2, 3, 0, 0, 1, 2, 0, 4, 1, 4, 5, 3, 5, 11, 3, 3, 1, 1, 0, 0, 0, 0, 4, 2, 0, 2, 0, 0, 3, 1, 0, 1, 1, 0, 0, 1, 3, 2, 4, 1, 1, 0, 1, 6, 7, 2, 1, 3, 3, 7, 0, 2, 1, 3, 4, 0, 1, 0, 4, 4, 2, 3, 2, 4, 4, 1, 1, 2, 1, 2, 2, 0, 8, 1, 4, 3, 0, 2, 5, 1, 1, 0, 0, 2, 2, 1, 2, 5, 1, 9, 3, 1, 1, 1, 1, 3, 0, 2, 2, 10, 1, 1, 0, 2, 1, 2, 4, 2, 3, 3, 4, 1, 1, 3, 12, 0, 10, 2, 1, 7, 10, 4, 3, 1, 0, 0, 3, 5, 0, 2, 0, 2, 3, 0, 0, 4, 9, 11, 5, 12, 0, 1, 0, 1, 2, 3, 9, 5, 0, 0, 0, 1, 5, 3, 1, 1, 3, 5, 0, 1, 4, 6, 1, 4, 2, 13, 5, 1, 0, 1, 1, 3, 7, 2, 8, 1, 9, 0, 1, 3, 0, 3, 2, 0, 5, 1, 2, 7, 1, 3, 2, 0, 0, 4, 1, 1, 0, 3, 4, 0, 6, 9, 0, 5, 1, 6, 1, 2, 0, 1, 1, 3, 5, 4, 0, 1, 0, 5, 2, 1, 7, 0, 3, 1, 0, 5, 6, 2, 2, 0, 0, 1, 9, 4, 1, 0, 2, 2, 0, 0, 4, 2, 2, 0, 2, 1, 0, 0, 0, 0, 1, 3, 1, 3, 0, 5, 0, 1, 2, 0, 3, 4, 0, 7, 4, 3, 1, 1, 2, 0, 3, 3, 3, 14, 5, 12, 1, 3, 3, 3, 2, 0, 0, 2, 5, 2, 6, 6, 1, 2, 2, 0, 0, 4, 2, 2, 0, 4, 3, 6, 4, 0, 8, 0, 7, 1, 5, 3, 3]\n"
     ]
    }
   ],
   "source": [
    "# Création de la liste qui va contenir les résultats de la simulation\n",
    "nombre_de_reussites_par_partie2 = []\n",
    "\n",
    "# Et simulons pour 5000 parties. Ce nombre reste suffisamment modeste pour fonctionner sur n'importe quel ordinateur actuel en quelques secondes\n",
    "for i in range(1,5000):\n",
    "    liste_boite = []\n",
    "\n",
    "    for i in range (1,27):\n",
    "        liste_boite.append(i)\n",
    "\n",
    "    liste_somme = [0.01,1,5,10,25,50,75,100,200,300,400,500,750,1000,5000,10000,25000,50000,75000,100000,200000,300000,400000,500000,750000,1000000]\n",
    "    rd.shuffle(liste_somme)\n",
    "\n",
    "    nouveau_jeu = pd.DataFrame(liste_somme, index=liste_boite , columns=['Somme contenue dans la boîte'])\n",
    "    nouveau_jeu.index.name = 'Boîte'\n",
    "\n",
    "    liste_choix = nouveau_jeu.index\n",
    "    choix_boite = rd.choices(liste_choix, k=1)\n",
    "    choix_boite = int(choix_boite[0])\n",
    "    liste_choix = liste_choix.drop(choix_boite)\n",
    "\n",
    "    somme1 = nouveau_jeu.loc[choix_boite]\n",
    "    somme1 = float(somme1.iloc[0])\n",
    "\n",
    "    reussite = 0\n",
    "    continuer = \"oui\"\n",
    "\n",
    "    doc_somme_restante = nouveau_jeu['Somme contenue dans la boîte'].drop(choix_boite)\n",
    "    list_somme_restante = doc_somme_restante.tolist()\n",
    "    list_somme_restante.sort()\n",
    "\n",
    "    while continuer == \"oui\":\n",
    "        au_dessus = sum(1 for value in list_somme_restante if value > somme1)\n",
    "        en_dessous = sum(1 for value in list_somme_restante if value < somme1)\n",
    "        if au_dessus > en_dessous:\n",
    "            choix_prediction = \"plus haute\"\n",
    "        else:\n",
    "            choix_prediction = \"plus basse\"\n",
    "        choix_boite = rd.choices(liste_choix, k=1)\n",
    "        choix_boite = int(choix_boite[0])\n",
    "        liste_choix = liste_choix.drop(choix_boite)\n",
    "        somme2 = nouveau_jeu.loc[choix_boite]\n",
    "        somme2 = float(somme2.iloc[0])\n",
    "        doc_somme_restante = doc_somme_restante.drop(choix_boite)\n",
    "        list_somme_restante = doc_somme_restante.tolist()\n",
    "        list_somme_restante.sort()\n",
    "        if somme2 > somme1:\n",
    "            if choix_prediction == \"plus haute\":\n",
    "                reussite += 1\n",
    "                somme1 = somme2\n",
    "            if choix_prediction == \"plus basse\":\n",
    "                continuer = \"non\"\n",
    "        if somme2 < somme1:\n",
    "            if choix_prediction == \"plus basse\":\n",
    "                reussite += 1\n",
    "                somme1 = somme2\n",
    "            if choix_prediction == \"plus haute\":\n",
    "                continuer = \"non\"\n",
    "        if reussite == 25:\n",
    "            continuer = \"non\"\n",
    "            \n",
    "    # Nous rajoutons à la liste la réussite à la fin de la simulation, peu importe comment celle-ci s'est terminée\n",
    "    nombre_de_reussites_par_partie2.append(reussite)\n",
    "\n",
    "# Et si souhaité, nous pouvons afficher la liste\n",
    "print(nombre_de_reussites_par_partie2)"
   ]
  },
  {
   "cell_type": "markdown",
   "id": "3b68a293-a0bd-4bbe-8298-287d56941e0b",
   "metadata": {},
   "source": [
    "Rien ne saute formellement aux yeux de cette manière, encore une fois. Nous allons utiliser ce jeu de données pour le visualiser sous la forme d'un histogramme."
   ]
  },
  {
   "cell_type": "code",
   "execution_count": 699,
   "id": "0840316f",
   "metadata": {},
   "outputs": [
    {
     "data": {
      "image/png": "[encoded data removed]",
      "text/plain": [
       "<Figure size 640x480 with 1 Axes>"
      ]
     },
     "metadata": {},
     "output_type": "display_data"
    }
   ],
   "source": [
    "# La création de l'hitogramme est identique à la première simulation\n",
    "nombre_de_reussites2 = list(set(nombre_de_reussites_par_partie2))\n",
    "frequences2 = [nombre_de_reussites_par_partie2.count(reussites) for reussites in nombre_de_reussites2]\n",
    "plt.bar(nombre_de_reussites2, frequences2)\n",
    "plt.xlabel('Nombre de réussites')\n",
    "plt.ylabel('Nombre de parties')\n",
    "plt.title('Nombre de réussites pour 5000 parties')\n",
    "plt.xlim(-1, 25)\n",
    "plt.show()"
   ]
  },
  {
   "cell_type": "markdown",
   "id": "90bfbf71-3ca2-4b74-9e50-467290261664",
   "metadata": {},
   "source": [
    "Nous pouvons noter les éléments suivants :\n",
    "- Le nombre de parties prématurément terminées dès la première prédiction est globalement **divisée par deux** : cette stratégie est très efficace.\n",
    "- De façon générale, bien que la forme générale reste la même (globalement décroissant), **l'histogramme est moins compacté sur la gauche, il s'étale sur plus de valeurs.**\n",
    "- Et pour ceux repérant les détails, miracle : **une colonne apparaît pour la valeur 25 !** Hourra ! Si ce n'est pas le cas, relancez la simulation plusieurs fois : vous verrez qu'il s'agit d'un cas très rare."
   ]
  },
  {
   "cell_type": "markdown",
   "id": "560491bd-1a9b-425f-8854-4ec4736bd23a",
   "metadata": {},
   "source": [
    "Vérifions que le nombre maximum de réussite est bien de 25 :"
   ]
  },
  {
   "cell_type": "code",
   "execution_count": 700,
   "id": "071c001d",
   "metadata": {},
   "outputs": [
    {
     "data": {
      "text/plain": [
       "25"
      ]
     },
     "execution_count": 700,
     "metadata": {},
     "output_type": "execute_result"
    }
   ],
   "source": [
    "max(nombre_de_reussites2)"
   ]
  },
  {
   "cell_type": "markdown",
   "id": "eeb0d962-02ce-43ac-b020-43a3c85320b5",
   "metadata": {},
   "source": [
    "C'est le cas, et nous pouvons même **afficher le nombre de fois que ce nombre est apparu**, ce qui correspond au nombre de parties réussies :"
   ]
  },
  {
   "cell_type": "code",
   "execution_count": 706,
   "id": "2f8b49db",
   "metadata": {},
   "outputs": [
    {
     "name": "stdout",
     "output_type": "stream",
     "text": [
      "5\n"
     ]
    }
   ],
   "source": [
    "nombre_de_succes = nombre_de_reussites_par_partie2.count(max(nombre_de_reussites_par_partie2))\n",
    "print(nombre_de_succes)"
   ]
  },
  {
   "cell_type": "markdown",
   "id": "b66742f8-e49f-4a38-9f71-9cdca6ca6f99",
   "metadata": {},
   "source": [
    "Puisque nous avons des réussites dans notre simulation, il est donc possible de trouver une approximation de **la probabilité de réussite** d'une partie. La formule est simple :\n",
    "$$ F = \\frac{Nombre \\ de \\ succès}{Nombre \\ total \\ d'essais} $$  \n",
    "Avec $F$ ce que l'on appelle **la fréquence d'apparition**, et il est évident que plus le nombre d'essais est élevé, plus on a $F \\approx P(succès).$  \n",
    "\n",
    "Ici, deux choix s'offrent à nous. Soit nous lançons une simulation avec *beaucoup* de parties, mais cela peut demander un certain temps, soit nous nous penchons sur le deuxième choix qui va être le nôtre : nous allons lancer plusieurs simulations à 5000 parties, et faire une moyenne des fréquences $F$ obtenues. Cela permet à tout lecteur de créer son propre échantillon de fréquences, et ces échantillons auront plus de chance d'être proches, car moins sensibles à des valeurs extrêmes. Attention, une moyenne est bien sensible aux valeurs extrêmes, mais toujours moins que de n'avoir QUE la valeur extrême par manque de chance lors de notre simulation avec beaucoup de parties.  \n",
    "\n",
    "J'ai donc lancé plusieurs simulations de parties **pour obtenir l'échantillon de fréquences suivant.**  \n",
    "A noter que les valeurs sont rentrées à la main, pour la simple raison qu'utiliser une boucle `for` pour remplir cette liste peut être créée de façon analogue à ce qui est fait au-dessus, mais cela alourdirait le code, la mise en page, et serait trop long à tourner pour une simple démonstration. Le temps de calcul n'est pas énorme, mais je préfère garder des blocs de code qui ne mettent qu'une vingtaine de secondes maximum à exécuter."
   ]
  },
  {
   "cell_type": "code",
   "execution_count": 708,
   "id": "950d2501",
   "metadata": {},
   "outputs": [],
   "source": [
    "# Ajout de la variable \"nombre_de_succes\" à chaque simulation, valeurs rentrées à la main. Libre à vous de rajouter des résultats\n",
    "liste_nombre_de_succes = [6,5,6,3,7,5,7,1,1,6,6,7,8,3,1,3,5]"
   ]
  },
  {
   "cell_type": "code",
   "execution_count": 723,
   "id": "b89c3619",
   "metadata": {},
   "outputs": [
    {
     "data": {
      "text/plain": [
       "0.0009411764705882353"
      ]
     },
     "execution_count": 723,
     "metadata": {},
     "output_type": "execute_result"
    }
   ],
   "source": [
    "# Et nous pouvons donc calculer la moyenne des fréquences obtenues pour obtenir l'approximation de la probabilité de réussite\n",
    "np.mean(liste_nombre_de_succes)/5000"
   ]
  },
  {
   "cell_type": "markdown",
   "id": "fef2e61b-c0e7-4c8d-870c-513c84ba28bc",
   "metadata": {},
   "source": [
    "La probabilité de réussite d'une partie, c'est-à-dire d'ouvrir les 25 boîtes grâce à des prédictions toutes justes, est **d'environ 0.094%.**"
   ]
  },
  {
   "cell_type": "markdown",
   "id": "fbbc830c-4283-46fb-acb8-10ed9ccaa5f3",
   "metadata": {},
   "source": [
    "En ce qui concerne le **nombre moyen de parties nécessaire** pour espérer obtenir le succès de RetroAchievements de cette façon, nous pouvons le calculer avec la probabilité obtenue de manière analogue aux calculs précédents. En effet, nous souhaitons :  \n",
    "\n",
    "- savoir combien de parties il faut faire avant d'obtenir pour la première fois un événement,\n",
    "- cet événement a une probabilité d'apparition comprise entre 0 et 1,\n",
    "- chaque partie est indépendante les unes des autres, ce qui signifie que le résultat d'une partie n'influera pas le résultat d'une autre partie. Attention de ne pas confondre avec l'hypothèse fausse de notre premier modèle, où il s'était avéré que les prédictions ne sont pas indépendantes entre elles. Les parties le sont entre elles : une fois qu'une partie est finie et qu'une nouvelle est lancée, le nombre de réussites précédent n'influe en rien au nombre de réussites que l'on va obtenir dans la nouvelle.\n",
    "\n",
    "Notre modèle suit donc approximativement une **loi géométrique** de paramètre $P = 0,00094$.  \n",
    "\n",
    "En sachant ça, nous pouvons donc calculer **l'espérance**, qui vaut donc $E = \\frac {1}{0,00094} \\approx 1064.$"
   ]
  },
  {
   "cell_type": "markdown",
   "id": "97f16c98-0bbc-4333-9221-1a5fd58226e3",
   "metadata": {},
   "source": [
    "<h3><font color='#4bba13'><b>RÉSUMÉ ET DÉDUCTIONS</b></font></h3>"
   ]
  },
  {
   "cell_type": "markdown",
   "id": "f20f3123-caf1-49bc-9a5f-915bc0ed502c",
   "metadata": {},
   "source": [
    "<font color='#944fd9'><b>Il y a donc environ 0,094% de chance de réussite pour ce succès, et il faudra environ 1064 parties aux joueurs pour l'obtenir. Selon les standards du site RetroAchievements, le succès est valide mais 25 points est une valeur bien trop faible pour un tel succès.</b></font>  \n",
    "En effet, si l'on se réfère encore au **[code de conduite du développeur](https://docs.retroachievements.org/guidelines/content/unwelcome-concepts.html#overly-rng-reliant)**, il y a une précision dans le paragraphe `Overly RNG Reliant` dont je n'avais pas parlé au-dessus... Il est EXACTEMENT stipulé qu'un concept est indésirable lorsqu'il rentre dans cette catégorie :  "
   ]
  },
  {
   "cell_type": "markdown",
   "id": "bda3c476-ff39-425e-881c-e42b5dae5dd1",
   "metadata": {},
   "source": [
    "---"
   ]
  },
  {
   "cell_type": "markdown",
   "id": "5f6b7620-e5c8-49e1-bcae-d9fc78994cdf",
   "metadata": {},
   "source": [
    "`Rely entirely on randomness, especially when there are extremely low odds.`  \n",
    "Traduction : *Repose entièrement sur l'aléatoire, en particulier lorsque les probabilités sont extrêmement faibles.*  \n",
    "\n",
    "`When these are acceptable:`  \n",
    "Traduction : *Exceptions :*  \n",
    "`Games or mini-games where the randomness is a major aspect.`  \n",
    "Traduction : *Jeux ou mini-jeux où l'aléatoire est un aspect majeur.*"
   ]
  },
  {
   "cell_type": "markdown",
   "id": "f61f3f1d-7288-4b9a-90b6-3d4a6f542ad1",
   "metadata": {},
   "source": [
    "---"
   ]
  },
  {
   "cell_type": "markdown",
   "id": "1c225d22-9377-4272-af85-d49e49ccba52",
   "metadata": {},
   "source": [
    "Mais alors, pourquoi notre premier modèle aurait atterri dans la case des concepts indésirables, alors que le code de conduite l'autorise ? Il est vrai que l'aléatoire est un aspect majeur du jeu, en fait, le jeu est tellement basé sur le hasard que c'est un des premiers aspects évoqués dès la présentation générale du cadre dans ce projet.\n",
    "En fait, lors de notre premier modèle, la probabilité était si faible qu'il était demandé aux joueurs de jouer des millions de parties. **Et c'est ça qui rentrerait dans les concepts indésirables.** Pour être précis, la raison est évoquée dans le paragraphe `Pointless Excessive Grinding` (traduction : *Grinding excessif et inutile. Le mot \"grinding\" n'a pas d'équivalent français, mais cela signifie \"répéter massivement une tâche pour obtenir des avantages\"*).  \n",
    "Celui-ci stipule qu'un concept est indésirable dans ce cas-ci :"
   ]
  },
  {
   "cell_type": "markdown",
   "id": "79ab8a14-825c-46c3-8ec7-41638545eae4",
   "metadata": {},
   "source": [
    "---"
   ]
  },
  {
   "cell_type": "markdown",
   "id": "0ff7ce89-1ec3-4b38-9a8e-5f150ba31f25",
   "metadata": {},
   "source": [
    "`Achievements that require long, repetitive tasks that confer no unique in-game rewards, acknowledgements or aren't required to complete all of a game's content.`  \n",
    "Traduction : *Succès qui requièrent l'exécution de tâches longues, répétitives, qui ne confèrent pas de récompense unique du jeu lui-même, aucune reconnaissance, ou qui ne sont pas requises pour terminer tout le contenu du jeu.*\n",
    "\n",
    "`Common examples of Pointless Excessive Grinding:`  \n",
    "Traduction : *Exemples classiques de Grinding excessif et inutile :*  \n",
    "\n",
    "`Leveling up in an RPG beyond what is typically required to complete the game and where there is no in-game reward such as a skill or spell.`  \n",
    "Traduction : *Monter en niveau dans un RPG au-delà de ce qui est normalement requis pour finir le jeu et où il n'y a aucune récompense du jeu lui-même, comme une compétence ou un sort.*  \n",
    "`Acquiring many copies of items or money beyond which would typically be accrued during a normal playthrough.`  \n",
    "Traduction : *Acquérir plusieurs copies d'items ou d'argents au-delà de ce qui serait normalement accumulé lors d'une partie normale.*   \n",
    "`Collecting an arbitrary number of extra lives when they are not associated with a reward or challenge, such as when they can be dropped by enemies.`  \n",
    "Traduction : *Collecter un nombre arbitraire de vies supplémentaires quand elles ne sont associées ni à une récompense ou un défi, comme lorsqu'elles peuvent être lâchées par des ennemis.*"
   ]
  },
  {
   "cell_type": "markdown",
   "id": "dc82c4c1-e814-40ac-a63a-fa786031b228",
   "metadata": {},
   "source": [
    "---"
   ]
  },
  {
   "cell_type": "markdown",
   "id": "a8a11126-4160-4285-a759-9201a741f1f6",
   "metadata": {},
   "source": [
    "Ici, notre cas ne ressemble pas aux exemples classiques donnés, mais **il s'agit bel et bien d'un Grinding excessif et inutile** : relancer 33 millions de parties est long, répétitif, et mis à part que le jeu enregistre votre nouveau record de 25 bonnes prédictions, celui-ci n'offre aucune récompense et ce record n'est pas requis pour terminer le jeu (sur RetroAchievements, il a été décidé que le jeu est terminé lorsque l'on obtient le meilleur scénario du jeu télévisé, à savoir **obtenir la somme de 1 000 000\\\\$ dans le mode TV GAME).**"
   ]
  },
  {
   "cell_type": "markdown",
   "id": "a903e23f-8b3f-4608-8166-44cd8e6f60f8",
   "metadata": {},
   "source": [
    "En ce qui concerne le résultat de notre deuxième modèle, le code de conduite reste flou en ce qui concerne la trop haute dépendance à l'aléatoire et au Grinding excessif et inutile. Ce n'est pas quantifiable, et ces concepts font donc appel **au bon sens du développeur**. C'est donc avec tout notre bon sens que nous pouvons décider que :  \n",
    "- Le hasard étant un **aspect majeur** du jeu, le concept **n'est pas indésirable** concernant la trop haute dépendance à l'aléatoire.\n",
    "- Espérer obtenir un résultat en un millier de parties **peut ne pas être considéré comme un Grinding trop excessif et inutile** étant donné la nature du jeu. Il n'est donc **pas considéré comme un concept indésirable** non plus sous cette règle.\n",
    "\n",
    "En revanche, le Grinding est suffisamment long pour être noté à 50 points, et surtout bien plus important que pour le premier succès à 25 points : 26 parties contre 1064, c'est environ **40 fois** plus d'essais à effectuer. Il n'est donc pas normal de les mettre tous les deux au même niveau de valeur de récompense."
   ]
  },
  {
   "cell_type": "markdown",
   "id": "ab5e71c9-dd86-446b-bb3d-a2787720f516",
   "metadata": {},
   "source": [
    "<h2><font color='#ff0000'><b>CONCLUSION</b></font></h2>"
   ]
  },
  {
   "cell_type": "markdown",
   "id": "fcb1f586-93a6-4fdd-8bd4-316ba36d838d",
   "metadata": {},
   "source": [
    "<font color='#179bad'><b> Dans ce projet, nous avons essayé de déterminer si le deuxième succès posait un problème d'équité vis-à-vis de la compétition. Etant donné le côté très aléatoire du jeu, il s'agit du principal facteur de difficulté justifiant l'évaluation du nombre de points offerts lors de l'obtention des succès. C'est pourquoi nous nous sommes basés sur le nombre de parties nécessaire pour que les joueurs espèrent les obtenir.  \n",
    "Pour le premier succès, c'est-à-dire le premier mode, nous avons évalué théoriquement ce nombre moyen de parties nécessaire. Pour le deuxième mode, nous avons mélangé théorie mathématique et simulation pour l'obtenir, ce qui a permis de déterminer si le succès devait être réévalué ou supprimé.</b></font>  \n",
    "\n",
    "<font color='#179bad'><b>Nous pouvons maintenant répondre aux problématiques posées en début de notre analyse :\n",
    "- <font color='#179bad'><b>Le second succès doit être maintenu car, avec la bonne stratégie, il ne s'agit pas d'un concept indésirable.\n",
    "- <font color='#179bad'><b>En revanche, les chances d'obtention de ces deux succès sont trop éloignées pour les considérer comme similaires.\n",
    "- <font color='#179bad'><b>Les plaintes étaient donc justifiées, et il est conseillé de réévaluer le second succès pour le mettre à 50 points pour un meilleur respect de l'équité.</b></font>\n",
    "\n",
    "<font color='#179bad'><b>La prise de décision finale sera faite en suivant le protocole instauré pour tout changement de valeurs d'un succès : un sondage est créé par l'équipe de DevCompliance et est accessible aux développeurs pour voter pour ou contre la réévaluation. La suite n'est plus de notre ressort, mais nous avons accompli notre objectif en tant qu'analyste de données : aider à la prise de décision grâce aux données.  \n",
    "\n",
    "<font color='#179bad'><b>Merci de votre lecture !</b></font>"
   ]
  }
 ],
 "metadata": {
  "kernelspec": {
   "display_name": "Python [conda env:base] *",
   "language": "python",
   "name": "conda-base-py"
  },
  "language_info": {
   "codemirror_mode": {
    "name": "ipython",
    "version": 3
   },
   "file_extension": ".py",
   "mimetype": "text/x-python",
   "name": "python",
   "nbconvert_exporter": "python",
   "pygments_lexer": "ipython3",
   "version": "3.11.5"
  }
 },
 "nbformat": 4,
 "nbformat_minor": 5
}
